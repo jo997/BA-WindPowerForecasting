{
 "cells": [
  {
   "cell_type": "code",
   "execution_count": 26,
   "metadata": {},
   "outputs": [],
   "source": [
    "import pandas as pd\n",
    "import shap\n",
    "import numpy as np\n",
    "import matplotlib.pyplot as plt\n",
    "import datetime as dt\n",
    "from datetime import datetime\n",
    "from matplotlib.pylab import rcParams\n",
    "from sklearn.model_selection import train_test_split\n",
    "from sklearn import linear_model\n",
    "rcParams['figure.figsize'] = 15, 6\n",
    "plt.rcParams['agg.path.chunksize'] = 10000"
   ]
  },
  {
   "cell_type": "markdown",
   "metadata": {},
   "source": [
    "### datacleaning:\n",
    "- we first load the dataset"
   ]
  },
  {
   "cell_type": "code",
   "execution_count": 27,
   "metadata": {},
   "outputs": [],
   "source": [
    "data = pd.read_csv('data/la-haute-borne-data-2017-2020.csv',sep=';')"
   ]
  },
  {
   "cell_type": "code",
   "execution_count": 28,
   "metadata": {},
   "outputs": [
    {
     "data": {
      "text/html": [
       "<div>\n",
       "<style scoped>\n",
       "    .dataframe tbody tr th:only-of-type {\n",
       "        vertical-align: middle;\n",
       "    }\n",
       "\n",
       "    .dataframe tbody tr th {\n",
       "        vertical-align: top;\n",
       "    }\n",
       "\n",
       "    .dataframe thead th {\n",
       "        text-align: right;\n",
       "    }\n",
       "</style>\n",
       "<table border=\"1\" class=\"dataframe\">\n",
       "  <thead>\n",
       "    <tr style=\"text-align: right;\">\n",
       "      <th></th>\n",
       "      <th>Wind_turbine_name</th>\n",
       "      <th>Date_time</th>\n",
       "      <th>Ba_avg</th>\n",
       "      <th>Ba_min</th>\n",
       "      <th>Ba_max</th>\n",
       "      <th>Ba_std</th>\n",
       "      <th>Rt_avg</th>\n",
       "      <th>Rt_min</th>\n",
       "      <th>Rt_max</th>\n",
       "      <th>Rt_std</th>\n",
       "      <th>...</th>\n",
       "      <th>Pas_max</th>\n",
       "      <th>Pas_std</th>\n",
       "      <th>Wa_c_avg</th>\n",
       "      <th>Wa_c_min</th>\n",
       "      <th>Wa_c_max</th>\n",
       "      <th>Wa_c_std</th>\n",
       "      <th>Na_c_avg</th>\n",
       "      <th>Na_c_min</th>\n",
       "      <th>Na_c_max</th>\n",
       "      <th>Na_c_std</th>\n",
       "    </tr>\n",
       "  </thead>\n",
       "  <tbody>\n",
       "    <tr>\n",
       "      <th>0</th>\n",
       "      <td>R80721</td>\n",
       "      <td>2017-02-08T08:00:00+01:00</td>\n",
       "      <td>44.990002</td>\n",
       "      <td>44.990002</td>\n",
       "      <td>44.990002</td>\n",
       "      <td>0.0</td>\n",
       "      <td>14.0</td>\n",
       "      <td>14.0</td>\n",
       "      <td>14.0</td>\n",
       "      <td>0.0</td>\n",
       "      <td>...</td>\n",
       "      <td>NaN</td>\n",
       "      <td>NaN</td>\n",
       "      <td>358.04999</td>\n",
       "      <td>NaN</td>\n",
       "      <td>NaN</td>\n",
       "      <td>NaN</td>\n",
       "      <td>358.04999</td>\n",
       "      <td>NaN</td>\n",
       "      <td>NaN</td>\n",
       "      <td>NaN</td>\n",
       "    </tr>\n",
       "    <tr>\n",
       "      <th>1</th>\n",
       "      <td>R80721</td>\n",
       "      <td>2017-01-26T02:40:00+01:00</td>\n",
       "      <td>-1.000000</td>\n",
       "      <td>-1.000000</td>\n",
       "      <td>-1.000000</td>\n",
       "      <td>0.0</td>\n",
       "      <td>10.0</td>\n",
       "      <td>10.0</td>\n",
       "      <td>10.0</td>\n",
       "      <td>0.0</td>\n",
       "      <td>...</td>\n",
       "      <td>NaN</td>\n",
       "      <td>NaN</td>\n",
       "      <td>NaN</td>\n",
       "      <td>NaN</td>\n",
       "      <td>NaN</td>\n",
       "      <td>NaN</td>\n",
       "      <td>NaN</td>\n",
       "      <td>NaN</td>\n",
       "      <td>NaN</td>\n",
       "      <td>NaN</td>\n",
       "    </tr>\n",
       "    <tr>\n",
       "      <th>2</th>\n",
       "      <td>R80721</td>\n",
       "      <td>2017-01-26T13:50:00+01:00</td>\n",
       "      <td>-1.000000</td>\n",
       "      <td>-1.000000</td>\n",
       "      <td>-1.000000</td>\n",
       "      <td>0.0</td>\n",
       "      <td>10.0</td>\n",
       "      <td>10.0</td>\n",
       "      <td>10.0</td>\n",
       "      <td>0.0</td>\n",
       "      <td>...</td>\n",
       "      <td>NaN</td>\n",
       "      <td>NaN</td>\n",
       "      <td>NaN</td>\n",
       "      <td>NaN</td>\n",
       "      <td>NaN</td>\n",
       "      <td>NaN</td>\n",
       "      <td>NaN</td>\n",
       "      <td>NaN</td>\n",
       "      <td>NaN</td>\n",
       "      <td>NaN</td>\n",
       "    </tr>\n",
       "    <tr>\n",
       "      <th>3</th>\n",
       "      <td>R80721</td>\n",
       "      <td>2017-01-26T15:00:00+01:00</td>\n",
       "      <td>-1.000000</td>\n",
       "      <td>-1.000000</td>\n",
       "      <td>-1.000000</td>\n",
       "      <td>0.0</td>\n",
       "      <td>10.0</td>\n",
       "      <td>10.0</td>\n",
       "      <td>10.0</td>\n",
       "      <td>0.0</td>\n",
       "      <td>...</td>\n",
       "      <td>NaN</td>\n",
       "      <td>NaN</td>\n",
       "      <td>NaN</td>\n",
       "      <td>NaN</td>\n",
       "      <td>NaN</td>\n",
       "      <td>NaN</td>\n",
       "      <td>NaN</td>\n",
       "      <td>NaN</td>\n",
       "      <td>NaN</td>\n",
       "      <td>NaN</td>\n",
       "    </tr>\n",
       "    <tr>\n",
       "      <th>4</th>\n",
       "      <td>R80721</td>\n",
       "      <td>2017-02-18T01:10:00+01:00</td>\n",
       "      <td>44.990002</td>\n",
       "      <td>44.990002</td>\n",
       "      <td>44.990002</td>\n",
       "      <td>0.0</td>\n",
       "      <td>17.0</td>\n",
       "      <td>17.0</td>\n",
       "      <td>17.0</td>\n",
       "      <td>0.0</td>\n",
       "      <td>...</td>\n",
       "      <td>NaN</td>\n",
       "      <td>NaN</td>\n",
       "      <td>7.99000</td>\n",
       "      <td>NaN</td>\n",
       "      <td>NaN</td>\n",
       "      <td>NaN</td>\n",
       "      <td>7.99000</td>\n",
       "      <td>NaN</td>\n",
       "      <td>NaN</td>\n",
       "      <td>NaN</td>\n",
       "    </tr>\n",
       "  </tbody>\n",
       "</table>\n",
       "<p>5 rows × 138 columns</p>\n",
       "</div>"
      ],
      "text/plain": [
       "  Wind_turbine_name                  Date_time     Ba_avg     Ba_min  \\\n",
       "0            R80721  2017-02-08T08:00:00+01:00  44.990002  44.990002   \n",
       "1            R80721  2017-01-26T02:40:00+01:00  -1.000000  -1.000000   \n",
       "2            R80721  2017-01-26T13:50:00+01:00  -1.000000  -1.000000   \n",
       "3            R80721  2017-01-26T15:00:00+01:00  -1.000000  -1.000000   \n",
       "4            R80721  2017-02-18T01:10:00+01:00  44.990002  44.990002   \n",
       "\n",
       "      Ba_max  Ba_std  Rt_avg  Rt_min  Rt_max  Rt_std  ...  Pas_max  Pas_std  \\\n",
       "0  44.990002     0.0    14.0    14.0    14.0     0.0  ...      NaN      NaN   \n",
       "1  -1.000000     0.0    10.0    10.0    10.0     0.0  ...      NaN      NaN   \n",
       "2  -1.000000     0.0    10.0    10.0    10.0     0.0  ...      NaN      NaN   \n",
       "3  -1.000000     0.0    10.0    10.0    10.0     0.0  ...      NaN      NaN   \n",
       "4  44.990002     0.0    17.0    17.0    17.0     0.0  ...      NaN      NaN   \n",
       "\n",
       "    Wa_c_avg  Wa_c_min  Wa_c_max  Wa_c_std   Na_c_avg  Na_c_min  Na_c_max  \\\n",
       "0  358.04999       NaN       NaN       NaN  358.04999       NaN       NaN   \n",
       "1        NaN       NaN       NaN       NaN        NaN       NaN       NaN   \n",
       "2        NaN       NaN       NaN       NaN        NaN       NaN       NaN   \n",
       "3        NaN       NaN       NaN       NaN        NaN       NaN       NaN   \n",
       "4    7.99000       NaN       NaN       NaN    7.99000       NaN       NaN   \n",
       "\n",
       "   Na_c_std  \n",
       "0       NaN  \n",
       "1       NaN  \n",
       "2       NaN  \n",
       "3       NaN  \n",
       "4       NaN  \n",
       "\n",
       "[5 rows x 138 columns]"
      ]
     },
     "execution_count": 28,
     "metadata": {},
     "output_type": "execute_result"
    }
   ],
   "source": [
    "data.head()"
   ]
  },
  {
   "cell_type": "markdown",
   "metadata": {},
   "source": [
    "- then we remove all empty columns"
   ]
  },
  {
   "cell_type": "code",
   "execution_count": 29,
   "metadata": {},
   "outputs": [
    {
     "name": "stderr",
     "output_type": "stream",
     "text": [
      "In a future version of pandas all arguments of DataFrame.drop except for the argument 'labels' will be keyword-only.\n",
      "In a future version of pandas all arguments of DataFrame.drop except for the argument 'labels' will be keyword-only.\n",
      "In a future version of pandas all arguments of DataFrame.drop except for the argument 'labels' will be keyword-only.\n"
     ]
    }
   ],
   "source": [
    "data = data.drop('Va1_avg', 1)\n",
    "data = data.drop('Va2_avg', 1)\n",
    "data = data.drop('Pas_avg', 1)"
   ]
  },
  {
   "cell_type": "code",
   "execution_count": 30,
   "metadata": {},
   "outputs": [
    {
     "data": {
      "text/plain": [
       "0     -1.89000\n",
       "1    197.32001\n",
       "2    176.45000\n",
       "3    190.61000\n",
       "4     -2.88000\n",
       "Name: P_avg, dtype: float64"
      ]
     },
     "execution_count": 30,
     "metadata": {},
     "output_type": "execute_result"
    }
   ],
   "source": [
    "data[\"P_avg\"].head()"
   ]
  },
  {
   "cell_type": "markdown",
   "metadata": {},
   "source": [
    "- then we clip our windpower, so we do not have negative power"
   ]
  },
  {
   "cell_type": "code",
   "execution_count": 31,
   "metadata": {},
   "outputs": [],
   "source": [
    "data[\"P_avg\"] = data[\"P_avg\"].clip(lower=0)"
   ]
  },
  {
   "cell_type": "code",
   "execution_count": 32,
   "metadata": {},
   "outputs": [
    {
     "data": {
      "text/plain": [
       "0      0.00000\n",
       "1    197.32001\n",
       "2    176.45000\n",
       "3    190.61000\n",
       "4      0.00000\n",
       "Name: P_avg, dtype: float64"
      ]
     },
     "execution_count": 32,
     "metadata": {},
     "output_type": "execute_result"
    }
   ],
   "source": [
    "data[\"P_avg\"].head()"
   ]
  },
  {
   "cell_type": "markdown",
   "metadata": {},
   "source": [
    "- we have to convert our timestamp to a usefull format"
   ]
  },
  {
   "cell_type": "code",
   "execution_count": 33,
   "metadata": {},
   "outputs": [],
   "source": [
    "data['Date_time'] = pd.to_datetime(data['Date_time'], utc=True)\n",
    "\n",
    "data[\"date\"] = pd.to_datetime(data['Date_time']).apply(lambda x: x.date())\n",
    "data['monthdate'] = pd.DatetimeIndex(data['Date_time']).month\n",
    "data['year'] = data['Date_time'].dt.year\n",
    "data['month'] = data['Date_time'].dt.month\n",
    "data['day'] = data['Date_time'].dt.day\n",
    "data['year'] = data[\"year\"].values\n",
    "data['month'] = data[\"month\"].values\n",
    "data['day'] = data[\"day\"].values"
   ]
  },
  {
   "cell_type": "code",
   "execution_count": 34,
   "metadata": {},
   "outputs": [
    {
     "name": "stdout",
     "output_type": "stream",
     "text": [
      "days:  0     8\n",
      "1    26\n",
      "2    26\n",
      "3    26\n",
      "4    18\n",
      "Name: day, dtype: int64\n",
      "\n",
      "months:  0    2\n",
      "1    1\n",
      "2    1\n",
      "3    1\n",
      "4    2\n",
      "Name: month, dtype: int64\n",
      "\n",
      "years : 0    2017\n",
      "1    2017\n",
      "2    2017\n",
      "3    2017\n",
      "4    2017\n",
      "Name: year, dtype: int64\n"
     ]
    }
   ],
   "source": [
    "print(\"days: \",data['day'].head()) \n",
    "print(\"\")\n",
    "print(\"months: \",data['month'].head()) \n",
    "print(\"\")\n",
    "print(\"years :\",data['year'].head())"
   ]
  },
  {
   "cell_type": "markdown",
   "metadata": {},
   "source": [
    "\n",
    "\n",
    "- first we drop NaNs and delete outliers"
   ]
  },
  {
   "cell_type": "code",
   "execution_count": 35,
   "metadata": {},
   "outputs": [],
   "source": [
    "selected_columns = data[[\"Date_time\",\"P_avg\",\"day\",\"Ba_avg\",\"Rt_avg\",\"Yt_avg\",\"Ws_avg\",\"Ot_avg\"]]\n",
    "df = selected_columns.copy()\n",
    "df.dropna(axis = 0, how ='any', inplace=True)\n",
    "df = df[df['P_avg'].notna()]\n",
    "df = df[df['Ba_avg'].notna()]\n",
    "df = df[df['Rt_avg'].notna()]\n",
    "df = df[df['Yt_avg'].notna()]\n",
    "df = df[df['Ws_avg'].notna()]\n",
    "df = df[df['Ot_avg'].notna()]"
   ]
  },
  {
   "cell_type": "code",
   "execution_count": 36,
   "metadata": {},
   "outputs": [],
   "source": [
    "Ws = df.sort_values(by=[\"Ws_avg\"], ascending=False) # Wind speed\n",
    "Ot = df.sort_values(by=[\"Ot_avg\"], ascending=False) # temperature\n",
    "Yt = df.sort_values(by=[\"Yt_avg\"], ascending=False) # nacelle temperature\n",
    "Rt = df.sort_values(by=[\"Rt_avg\"], ascending=False) # hub temperature\n",
    "Ba = df.sort_values(by=[\"Ba_avg\"], ascending=False) # pitch angle"
   ]
  },
  {
   "cell_type": "markdown",
   "metadata": {},
   "source": [
    "- we look at every column to see whether there appear some untypical numbers or not."
   ]
  },
  {
   "cell_type": "code",
   "execution_count": 37,
   "metadata": {},
   "outputs": [
    {
     "data": {
      "text/html": [
       "<div>\n",
       "<style scoped>\n",
       "    .dataframe tbody tr th:only-of-type {\n",
       "        vertical-align: middle;\n",
       "    }\n",
       "\n",
       "    .dataframe tbody tr th {\n",
       "        vertical-align: top;\n",
       "    }\n",
       "\n",
       "    .dataframe thead th {\n",
       "        text-align: right;\n",
       "    }\n",
       "</style>\n",
       "<table border=\"1\" class=\"dataframe\">\n",
       "  <thead>\n",
       "    <tr style=\"text-align: right;\">\n",
       "      <th></th>\n",
       "      <th>Date_time</th>\n",
       "      <th>P_avg</th>\n",
       "      <th>day</th>\n",
       "      <th>Ba_avg</th>\n",
       "      <th>Rt_avg</th>\n",
       "      <th>Yt_avg</th>\n",
       "      <th>Ws_avg</th>\n",
       "      <th>Ot_avg</th>\n",
       "    </tr>\n",
       "  </thead>\n",
       "  <tbody>\n",
       "    <tr>\n",
       "      <th>212826</th>\n",
       "      <td>2018-01-03 07:20:00+00:00</td>\n",
       "      <td>284.88</td>\n",
       "      <td>3</td>\n",
       "      <td>78.71</td>\n",
       "      <td>18.32</td>\n",
       "      <td>16.30</td>\n",
       "      <td>24.27</td>\n",
       "      <td>8.12</td>\n",
       "    </tr>\n",
       "    <tr>\n",
       "      <th>210705</th>\n",
       "      <td>2018-01-03 07:20:00+00:00</td>\n",
       "      <td>545.07</td>\n",
       "      <td>3</td>\n",
       "      <td>66.90</td>\n",
       "      <td>17.92</td>\n",
       "      <td>16.36</td>\n",
       "      <td>23.48</td>\n",
       "      <td>7.76</td>\n",
       "    </tr>\n",
       "    <tr>\n",
       "      <th>177441</th>\n",
       "      <td>2018-01-03 07:20:00+00:00</td>\n",
       "      <td>1296.88</td>\n",
       "      <td>3</td>\n",
       "      <td>44.33</td>\n",
       "      <td>19.00</td>\n",
       "      <td>16.07</td>\n",
       "      <td>23.00</td>\n",
       "      <td>7.77</td>\n",
       "    </tr>\n",
       "    <tr>\n",
       "      <th>212232</th>\n",
       "      <td>2018-01-03 04:30:00+00:00</td>\n",
       "      <td>2048.26</td>\n",
       "      <td>3</td>\n",
       "      <td>19.92</td>\n",
       "      <td>18.00</td>\n",
       "      <td>19.32</td>\n",
       "      <td>21.67</td>\n",
       "      <td>12.54</td>\n",
       "    </tr>\n",
       "    <tr>\n",
       "      <th>173248</th>\n",
       "      <td>2018-01-03 05:20:00+00:00</td>\n",
       "      <td>1436.69</td>\n",
       "      <td>3</td>\n",
       "      <td>38.10</td>\n",
       "      <td>18.77</td>\n",
       "      <td>18.46</td>\n",
       "      <td>21.30</td>\n",
       "      <td>11.39</td>\n",
       "    </tr>\n",
       "  </tbody>\n",
       "</table>\n",
       "</div>"
      ],
      "text/plain": [
       "                       Date_time    P_avg  day  Ba_avg  Rt_avg  Yt_avg  \\\n",
       "212826 2018-01-03 07:20:00+00:00   284.88    3   78.71   18.32   16.30   \n",
       "210705 2018-01-03 07:20:00+00:00   545.07    3   66.90   17.92   16.36   \n",
       "177441 2018-01-03 07:20:00+00:00  1296.88    3   44.33   19.00   16.07   \n",
       "212232 2018-01-03 04:30:00+00:00  2048.26    3   19.92   18.00   19.32   \n",
       "173248 2018-01-03 05:20:00+00:00  1436.69    3   38.10   18.77   18.46   \n",
       "\n",
       "        Ws_avg  Ot_avg  \n",
       "212826   24.27    8.12  \n",
       "210705   23.48    7.76  \n",
       "177441   23.00    7.77  \n",
       "212232   21.67   12.54  \n",
       "173248   21.30   11.39  "
      ]
     },
     "execution_count": 37,
     "metadata": {},
     "output_type": "execute_result"
    }
   ],
   "source": [
    "Ws.head() "
   ]
  },
  {
   "cell_type": "markdown",
   "metadata": {},
   "source": [
    "--> no outliers in Windspeed"
   ]
  },
  {
   "cell_type": "code",
   "execution_count": 38,
   "metadata": {},
   "outputs": [
    {
     "data": {
      "text/html": [
       "<div>\n",
       "<style scoped>\n",
       "    .dataframe tbody tr th:only-of-type {\n",
       "        vertical-align: middle;\n",
       "    }\n",
       "\n",
       "    .dataframe tbody tr th {\n",
       "        vertical-align: top;\n",
       "    }\n",
       "\n",
       "    .dataframe thead th {\n",
       "        text-align: right;\n",
       "    }\n",
       "</style>\n",
       "<table border=\"1\" class=\"dataframe\">\n",
       "  <thead>\n",
       "    <tr style=\"text-align: right;\">\n",
       "      <th></th>\n",
       "      <th>Date_time</th>\n",
       "      <th>P_avg</th>\n",
       "      <th>day</th>\n",
       "      <th>Ba_avg</th>\n",
       "      <th>Rt_avg</th>\n",
       "      <th>Yt_avg</th>\n",
       "      <th>Ws_avg</th>\n",
       "      <th>Ot_avg</th>\n",
       "    </tr>\n",
       "  </thead>\n",
       "  <tbody>\n",
       "    <tr>\n",
       "      <th>74205</th>\n",
       "      <td>2017-02-03 13:50:00+00:00</td>\n",
       "      <td>4.3</td>\n",
       "      <td>3</td>\n",
       "      <td>75.300003</td>\n",
       "      <td>15.46</td>\n",
       "      <td>39.560001</td>\n",
       "      <td>7.90</td>\n",
       "      <td>70.980003</td>\n",
       "    </tr>\n",
       "    <tr>\n",
       "      <th>15679</th>\n",
       "      <td>2017-02-03 13:40:00+00:00</td>\n",
       "      <td>0.0</td>\n",
       "      <td>3</td>\n",
       "      <td>91.699997</td>\n",
       "      <td>15.16</td>\n",
       "      <td>56.090000</td>\n",
       "      <td>6.08</td>\n",
       "      <td>68.699997</td>\n",
       "    </tr>\n",
       "    <tr>\n",
       "      <th>108390</th>\n",
       "      <td>2017-06-21 12:00:00+00:00</td>\n",
       "      <td>0.0</td>\n",
       "      <td>21</td>\n",
       "      <td>45.000000</td>\n",
       "      <td>36.00</td>\n",
       "      <td>41.630000</td>\n",
       "      <td>2.70</td>\n",
       "      <td>35.870000</td>\n",
       "    </tr>\n",
       "    <tr>\n",
       "      <th>108384</th>\n",
       "      <td>2017-06-21 11:30:00+00:00</td>\n",
       "      <td>0.0</td>\n",
       "      <td>21</td>\n",
       "      <td>45.000000</td>\n",
       "      <td>35.00</td>\n",
       "      <td>40.530000</td>\n",
       "      <td>0.88</td>\n",
       "      <td>35.860000</td>\n",
       "    </tr>\n",
       "    <tr>\n",
       "      <th>100836</th>\n",
       "      <td>2017-06-21 12:00:00+00:00</td>\n",
       "      <td>0.0</td>\n",
       "      <td>21</td>\n",
       "      <td>43.910000</td>\n",
       "      <td>35.00</td>\n",
       "      <td>40.530000</td>\n",
       "      <td>1.07</td>\n",
       "      <td>35.700000</td>\n",
       "    </tr>\n",
       "  </tbody>\n",
       "</table>\n",
       "</div>"
      ],
      "text/plain": [
       "                       Date_time  P_avg  day     Ba_avg  Rt_avg     Yt_avg  \\\n",
       "74205  2017-02-03 13:50:00+00:00    4.3    3  75.300003   15.46  39.560001   \n",
       "15679  2017-02-03 13:40:00+00:00    0.0    3  91.699997   15.16  56.090000   \n",
       "108390 2017-06-21 12:00:00+00:00    0.0   21  45.000000   36.00  41.630000   \n",
       "108384 2017-06-21 11:30:00+00:00    0.0   21  45.000000   35.00  40.530000   \n",
       "100836 2017-06-21 12:00:00+00:00    0.0   21  43.910000   35.00  40.530000   \n",
       "\n",
       "        Ws_avg     Ot_avg  \n",
       "74205     7.90  70.980003  \n",
       "15679     6.08  68.699997  \n",
       "108390    2.70  35.870000  \n",
       "108384    0.88  35.860000  \n",
       "100836    1.07  35.700000  "
      ]
     },
     "execution_count": 38,
     "metadata": {},
     "output_type": "execute_result"
    }
   ],
   "source": [
    "Ot.head()"
   ]
  },
  {
   "cell_type": "markdown",
   "metadata": {},
   "source": [
    "--> two significant outliers which we will set to the more natural max of 35"
   ]
  },
  {
   "cell_type": "code",
   "execution_count": 39,
   "metadata": {},
   "outputs": [],
   "source": [
    "df[\"Ot_avg\"] = df[\"Ot_avg\"].clip(upper=36)"
   ]
  },
  {
   "cell_type": "code",
   "execution_count": 40,
   "metadata": {},
   "outputs": [
    {
     "data": {
      "text/html": [
       "<div>\n",
       "<style scoped>\n",
       "    .dataframe tbody tr th:only-of-type {\n",
       "        vertical-align: middle;\n",
       "    }\n",
       "\n",
       "    .dataframe tbody tr th {\n",
       "        vertical-align: top;\n",
       "    }\n",
       "\n",
       "    .dataframe thead th {\n",
       "        text-align: right;\n",
       "    }\n",
       "</style>\n",
       "<table border=\"1\" class=\"dataframe\">\n",
       "  <thead>\n",
       "    <tr style=\"text-align: right;\">\n",
       "      <th></th>\n",
       "      <th>Date_time</th>\n",
       "      <th>P_avg</th>\n",
       "      <th>day</th>\n",
       "      <th>Ba_avg</th>\n",
       "      <th>Rt_avg</th>\n",
       "      <th>Yt_avg</th>\n",
       "      <th>Ws_avg</th>\n",
       "      <th>Ot_avg</th>\n",
       "    </tr>\n",
       "  </thead>\n",
       "  <tbody>\n",
       "    <tr>\n",
       "      <th>15679</th>\n",
       "      <td>2017-02-03 13:40:00+00:00</td>\n",
       "      <td>0.0</td>\n",
       "      <td>3</td>\n",
       "      <td>91.699997</td>\n",
       "      <td>15.16</td>\n",
       "      <td>56.090000</td>\n",
       "      <td>6.08</td>\n",
       "      <td>36.00</td>\n",
       "    </tr>\n",
       "    <tr>\n",
       "      <th>74205</th>\n",
       "      <td>2017-02-03 13:50:00+00:00</td>\n",
       "      <td>4.3</td>\n",
       "      <td>3</td>\n",
       "      <td>75.300003</td>\n",
       "      <td>15.46</td>\n",
       "      <td>39.560001</td>\n",
       "      <td>7.90</td>\n",
       "      <td>36.00</td>\n",
       "    </tr>\n",
       "    <tr>\n",
       "      <th>108390</th>\n",
       "      <td>2017-06-21 12:00:00+00:00</td>\n",
       "      <td>0.0</td>\n",
       "      <td>21</td>\n",
       "      <td>45.000000</td>\n",
       "      <td>36.00</td>\n",
       "      <td>41.630000</td>\n",
       "      <td>2.70</td>\n",
       "      <td>35.87</td>\n",
       "    </tr>\n",
       "    <tr>\n",
       "      <th>108384</th>\n",
       "      <td>2017-06-21 11:30:00+00:00</td>\n",
       "      <td>0.0</td>\n",
       "      <td>21</td>\n",
       "      <td>45.000000</td>\n",
       "      <td>35.00</td>\n",
       "      <td>40.530000</td>\n",
       "      <td>0.88</td>\n",
       "      <td>35.86</td>\n",
       "    </tr>\n",
       "    <tr>\n",
       "      <th>100836</th>\n",
       "      <td>2017-06-21 12:00:00+00:00</td>\n",
       "      <td>0.0</td>\n",
       "      <td>21</td>\n",
       "      <td>43.910000</td>\n",
       "      <td>35.00</td>\n",
       "      <td>40.530000</td>\n",
       "      <td>1.07</td>\n",
       "      <td>35.70</td>\n",
       "    </tr>\n",
       "  </tbody>\n",
       "</table>\n",
       "</div>"
      ],
      "text/plain": [
       "                       Date_time  P_avg  day     Ba_avg  Rt_avg     Yt_avg  \\\n",
       "15679  2017-02-03 13:40:00+00:00    0.0    3  91.699997   15.16  56.090000   \n",
       "74205  2017-02-03 13:50:00+00:00    4.3    3  75.300003   15.46  39.560001   \n",
       "108390 2017-06-21 12:00:00+00:00    0.0   21  45.000000   36.00  41.630000   \n",
       "108384 2017-06-21 11:30:00+00:00    0.0   21  45.000000   35.00  40.530000   \n",
       "100836 2017-06-21 12:00:00+00:00    0.0   21  43.910000   35.00  40.530000   \n",
       "\n",
       "        Ws_avg  Ot_avg  \n",
       "15679     6.08   36.00  \n",
       "74205     7.90   36.00  \n",
       "108390    2.70   35.87  \n",
       "108384    0.88   35.86  \n",
       "100836    1.07   35.70  "
      ]
     },
     "execution_count": 40,
     "metadata": {},
     "output_type": "execute_result"
    }
   ],
   "source": [
    "clippedOt = df.sort_values(by=[\"Ot_avg\"], ascending=False) # temperature\n",
    "clippedOt.head()"
   ]
  },
  {
   "cell_type": "code",
   "execution_count": 41,
   "metadata": {},
   "outputs": [
    {
     "data": {
      "text/html": [
       "<div>\n",
       "<style scoped>\n",
       "    .dataframe tbody tr th:only-of-type {\n",
       "        vertical-align: middle;\n",
       "    }\n",
       "\n",
       "    .dataframe tbody tr th {\n",
       "        vertical-align: top;\n",
       "    }\n",
       "\n",
       "    .dataframe thead th {\n",
       "        text-align: right;\n",
       "    }\n",
       "</style>\n",
       "<table border=\"1\" class=\"dataframe\">\n",
       "  <thead>\n",
       "    <tr style=\"text-align: right;\">\n",
       "      <th></th>\n",
       "      <th>Date_time</th>\n",
       "      <th>P_avg</th>\n",
       "      <th>day</th>\n",
       "      <th>Ba_avg</th>\n",
       "      <th>Rt_avg</th>\n",
       "      <th>Yt_avg</th>\n",
       "      <th>Ws_avg</th>\n",
       "      <th>Ot_avg</th>\n",
       "    </tr>\n",
       "  </thead>\n",
       "  <tbody>\n",
       "    <tr>\n",
       "      <th>15679</th>\n",
       "      <td>2017-02-03 13:40:00+00:00</td>\n",
       "      <td>0.00</td>\n",
       "      <td>3</td>\n",
       "      <td>91.699997</td>\n",
       "      <td>15.16</td>\n",
       "      <td>56.09</td>\n",
       "      <td>6.08</td>\n",
       "      <td>68.699997</td>\n",
       "    </tr>\n",
       "    <tr>\n",
       "      <th>48060</th>\n",
       "      <td>2017-07-06 14:40:00+00:00</td>\n",
       "      <td>52.92</td>\n",
       "      <td>6</td>\n",
       "      <td>-0.710000</td>\n",
       "      <td>34.49</td>\n",
       "      <td>42.79</td>\n",
       "      <td>4.42</td>\n",
       "      <td>32.350000</td>\n",
       "    </tr>\n",
       "    <tr>\n",
       "      <th>129799</th>\n",
       "      <td>2017-07-08 07:20:00+00:00</td>\n",
       "      <td>0.00</td>\n",
       "      <td>8</td>\n",
       "      <td>45.000000</td>\n",
       "      <td>32.00</td>\n",
       "      <td>42.79</td>\n",
       "      <td>2.55</td>\n",
       "      <td>30.180000</td>\n",
       "    </tr>\n",
       "    <tr>\n",
       "      <th>158329</th>\n",
       "      <td>2017-06-21 13:50:00+00:00</td>\n",
       "      <td>74.15</td>\n",
       "      <td>21</td>\n",
       "      <td>-0.410000</td>\n",
       "      <td>36.00</td>\n",
       "      <td>42.70</td>\n",
       "      <td>4.76</td>\n",
       "      <td>34.370000</td>\n",
       "    </tr>\n",
       "    <tr>\n",
       "      <th>205953</th>\n",
       "      <td>2017-08-29 10:20:00+00:00</td>\n",
       "      <td>18.50</td>\n",
       "      <td>29</td>\n",
       "      <td>0.680000</td>\n",
       "      <td>32.96</td>\n",
       "      <td>42.69</td>\n",
       "      <td>4.12</td>\n",
       "      <td>32.460000</td>\n",
       "    </tr>\n",
       "  </tbody>\n",
       "</table>\n",
       "</div>"
      ],
      "text/plain": [
       "                       Date_time  P_avg  day     Ba_avg  Rt_avg  Yt_avg  \\\n",
       "15679  2017-02-03 13:40:00+00:00   0.00    3  91.699997   15.16   56.09   \n",
       "48060  2017-07-06 14:40:00+00:00  52.92    6  -0.710000   34.49   42.79   \n",
       "129799 2017-07-08 07:20:00+00:00   0.00    8  45.000000   32.00   42.79   \n",
       "158329 2017-06-21 13:50:00+00:00  74.15   21  -0.410000   36.00   42.70   \n",
       "205953 2017-08-29 10:20:00+00:00  18.50   29   0.680000   32.96   42.69   \n",
       "\n",
       "        Ws_avg     Ot_avg  \n",
       "15679     6.08  68.699997  \n",
       "48060     4.42  32.350000  \n",
       "129799    2.55  30.180000  \n",
       "158329    4.76  34.370000  \n",
       "205953    4.12  32.460000  "
      ]
     },
     "execution_count": 41,
     "metadata": {},
     "output_type": "execute_result"
    }
   ],
   "source": [
    "Yt.head()"
   ]
  },
  {
   "cell_type": "code",
   "execution_count": 42,
   "metadata": {},
   "outputs": [
    {
     "data": {
      "text/html": [
       "<div>\n",
       "<style scoped>\n",
       "    .dataframe tbody tr th:only-of-type {\n",
       "        vertical-align: middle;\n",
       "    }\n",
       "\n",
       "    .dataframe tbody tr th {\n",
       "        vertical-align: top;\n",
       "    }\n",
       "\n",
       "    .dataframe thead th {\n",
       "        text-align: right;\n",
       "    }\n",
       "</style>\n",
       "<table border=\"1\" class=\"dataframe\">\n",
       "  <thead>\n",
       "    <tr style=\"text-align: right;\">\n",
       "      <th></th>\n",
       "      <th>Date_time</th>\n",
       "      <th>P_avg</th>\n",
       "      <th>day</th>\n",
       "      <th>Ba_avg</th>\n",
       "      <th>Rt_avg</th>\n",
       "      <th>Yt_avg</th>\n",
       "      <th>Ws_avg</th>\n",
       "      <th>Ot_avg</th>\n",
       "    </tr>\n",
       "  </thead>\n",
       "  <tbody>\n",
       "    <tr>\n",
       "      <th>163009</th>\n",
       "      <td>2017-09-07 11:50:00+00:00</td>\n",
       "      <td>0.0</td>\n",
       "      <td>7</td>\n",
       "      <td>91.68</td>\n",
       "      <td>215.00</td>\n",
       "      <td>27.59</td>\n",
       "      <td>4.14</td>\n",
       "      <td>18.22</td>\n",
       "    </tr>\n",
       "    <tr>\n",
       "      <th>138342</th>\n",
       "      <td>2017-09-07 12:10:00+00:00</td>\n",
       "      <td>0.0</td>\n",
       "      <td>7</td>\n",
       "      <td>91.68</td>\n",
       "      <td>215.00</td>\n",
       "      <td>27.22</td>\n",
       "      <td>3.86</td>\n",
       "      <td>18.09</td>\n",
       "    </tr>\n",
       "    <tr>\n",
       "      <th>40783</th>\n",
       "      <td>2017-09-07 12:00:00+00:00</td>\n",
       "      <td>0.0</td>\n",
       "      <td>7</td>\n",
       "      <td>91.68</td>\n",
       "      <td>215.00</td>\n",
       "      <td>26.87</td>\n",
       "      <td>3.04</td>\n",
       "      <td>18.31</td>\n",
       "    </tr>\n",
       "    <tr>\n",
       "      <th>114277</th>\n",
       "      <td>2017-09-07 11:40:00+00:00</td>\n",
       "      <td>0.0</td>\n",
       "      <td>7</td>\n",
       "      <td>91.68</td>\n",
       "      <td>208.00</td>\n",
       "      <td>29.26</td>\n",
       "      <td>4.43</td>\n",
       "      <td>18.12</td>\n",
       "    </tr>\n",
       "    <tr>\n",
       "      <th>65624</th>\n",
       "      <td>2017-09-07 12:20:00+00:00</td>\n",
       "      <td>0.0</td>\n",
       "      <td>7</td>\n",
       "      <td>89.05</td>\n",
       "      <td>206.54</td>\n",
       "      <td>27.26</td>\n",
       "      <td>3.36</td>\n",
       "      <td>18.21</td>\n",
       "    </tr>\n",
       "  </tbody>\n",
       "</table>\n",
       "</div>"
      ],
      "text/plain": [
       "                       Date_time  P_avg  day  Ba_avg  Rt_avg  Yt_avg  Ws_avg  \\\n",
       "163009 2017-09-07 11:50:00+00:00    0.0    7   91.68  215.00   27.59    4.14   \n",
       "138342 2017-09-07 12:10:00+00:00    0.0    7   91.68  215.00   27.22    3.86   \n",
       "40783  2017-09-07 12:00:00+00:00    0.0    7   91.68  215.00   26.87    3.04   \n",
       "114277 2017-09-07 11:40:00+00:00    0.0    7   91.68  208.00   29.26    4.43   \n",
       "65624  2017-09-07 12:20:00+00:00    0.0    7   89.05  206.54   27.26    3.36   \n",
       "\n",
       "        Ot_avg  \n",
       "163009   18.22  \n",
       "138342   18.09  \n",
       "40783    18.31  \n",
       "114277   18.12  \n",
       "65624    18.21  "
      ]
     },
     "execution_count": 42,
     "metadata": {},
     "output_type": "execute_result"
    }
   ],
   "source": [
    "Rt.head()"
   ]
  },
  {
   "cell_type": "code",
   "execution_count": 43,
   "metadata": {},
   "outputs": [
    {
     "data": {
      "text/html": [
       "<div>\n",
       "<style scoped>\n",
       "    .dataframe tbody tr th:only-of-type {\n",
       "        vertical-align: middle;\n",
       "    }\n",
       "\n",
       "    .dataframe tbody tr th {\n",
       "        vertical-align: top;\n",
       "    }\n",
       "\n",
       "    .dataframe thead th {\n",
       "        text-align: right;\n",
       "    }\n",
       "</style>\n",
       "<table border=\"1\" class=\"dataframe\">\n",
       "  <thead>\n",
       "    <tr style=\"text-align: right;\">\n",
       "      <th></th>\n",
       "      <th>Date_time</th>\n",
       "      <th>P_avg</th>\n",
       "      <th>day</th>\n",
       "      <th>Ba_avg</th>\n",
       "      <th>Rt_avg</th>\n",
       "      <th>Yt_avg</th>\n",
       "      <th>Ws_avg</th>\n",
       "      <th>Ot_avg</th>\n",
       "    </tr>\n",
       "  </thead>\n",
       "  <tbody>\n",
       "    <tr>\n",
       "      <th>196885</th>\n",
       "      <td>2017-05-31 08:20:00+00:00</td>\n",
       "      <td>0.0</td>\n",
       "      <td>31</td>\n",
       "      <td>132.48</td>\n",
       "      <td>24.98</td>\n",
       "      <td>36.71</td>\n",
       "      <td>2.12</td>\n",
       "      <td>23.63</td>\n",
       "    </tr>\n",
       "    <tr>\n",
       "      <th>175114</th>\n",
       "      <td>2017-05-31 06:40:00+00:00</td>\n",
       "      <td>0.0</td>\n",
       "      <td>31</td>\n",
       "      <td>116.29</td>\n",
       "      <td>24.77</td>\n",
       "      <td>29.03</td>\n",
       "      <td>1.28</td>\n",
       "      <td>21.98</td>\n",
       "    </tr>\n",
       "    <tr>\n",
       "      <th>199986</th>\n",
       "      <td>2017-09-07 06:50:00+00:00</td>\n",
       "      <td>0.0</td>\n",
       "      <td>7</td>\n",
       "      <td>114.93</td>\n",
       "      <td>22.55</td>\n",
       "      <td>24.47</td>\n",
       "      <td>2.68</td>\n",
       "      <td>14.69</td>\n",
       "    </tr>\n",
       "    <tr>\n",
       "      <th>1315</th>\n",
       "      <td>2017-05-30 06:50:00+00:00</td>\n",
       "      <td>0.0</td>\n",
       "      <td>30</td>\n",
       "      <td>111.78</td>\n",
       "      <td>28.00</td>\n",
       "      <td>30.00</td>\n",
       "      <td>6.17</td>\n",
       "      <td>22.00</td>\n",
       "    </tr>\n",
       "    <tr>\n",
       "      <th>200879</th>\n",
       "      <td>2017-09-07 08:30:00+00:00</td>\n",
       "      <td>0.0</td>\n",
       "      <td>7</td>\n",
       "      <td>111.43</td>\n",
       "      <td>21.77</td>\n",
       "      <td>27.83</td>\n",
       "      <td>3.58</td>\n",
       "      <td>16.54</td>\n",
       "    </tr>\n",
       "  </tbody>\n",
       "</table>\n",
       "</div>"
      ],
      "text/plain": [
       "                       Date_time  P_avg  day  Ba_avg  Rt_avg  Yt_avg  Ws_avg  \\\n",
       "196885 2017-05-31 08:20:00+00:00    0.0   31  132.48   24.98   36.71    2.12   \n",
       "175114 2017-05-31 06:40:00+00:00    0.0   31  116.29   24.77   29.03    1.28   \n",
       "199986 2017-09-07 06:50:00+00:00    0.0    7  114.93   22.55   24.47    2.68   \n",
       "1315   2017-05-30 06:50:00+00:00    0.0   30  111.78   28.00   30.00    6.17   \n",
       "200879 2017-09-07 08:30:00+00:00    0.0    7  111.43   21.77   27.83    3.58   \n",
       "\n",
       "        Ot_avg  \n",
       "196885   23.63  \n",
       "175114   21.98  \n",
       "199986   14.69  \n",
       "1315     22.00  \n",
       "200879   16.54  "
      ]
     },
     "execution_count": 43,
     "metadata": {},
     "output_type": "execute_result"
    }
   ],
   "source": [
    "Ba.head()"
   ]
  },
  {
   "cell_type": "markdown",
   "metadata": {},
   "source": [
    "--> No more outliers in Yt, Rt and Ba"
   ]
  },
  {
   "cell_type": "markdown",
   "metadata": {},
   "source": [
    "Now we can split our data into test and training data for our Support Vector Regression Model"
   ]
  },
  {
   "cell_type": "code",
   "execution_count": 44,
   "metadata": {},
   "outputs": [],
   "source": [
    "# splitting the data\n",
    "df = df.sort_values(by=\"Date_time\")\n",
    "\n",
    "x = df[[\"Ba_avg\",\"day\",\"Rt_avg\",\"Yt_avg\",\"Ws_avg\",\"Ot_avg\"]]\n",
    "y = df['P_avg']\n",
    "\n",
    "x_train, x_test, y_train, y_test = train_test_split(x, y, test_size = 0.2, random_state = 42) #80-20 split\n"
   ]
  },
  {
   "cell_type": "code",
   "execution_count": 45,
   "metadata": {},
   "outputs": [],
   "source": [
    "from sklearn.svm import LinearSVR\n",
    "svr = LinearSVR(random_state = 25)"
   ]
  },
  {
   "cell_type": "code",
   "execution_count": null,
   "metadata": {},
   "outputs": [
    {
     "name": "stdout",
     "output_type": "stream",
     "text": [
      "[LibLinear]"
     ]
    }
   ],
   "source": [
    "from sklearn.svm import LinearSVR\n",
    "from sklearn import svm\n",
    "svr = svm.LinearSVR(random_state=42, tol=1e-5, verbose=1, max_iter=10000)\n",
    "svr = svr.fit(x_train, y_train)"
   ]
  },
  {
   "cell_type": "code",
   "execution_count": null,
   "metadata": {},
   "outputs": [],
   "source": [
    "SVR_predict = svr.predict(x_test.values)"
   ]
  },
  {
   "cell_type": "code",
   "execution_count": null,
   "metadata": {},
   "outputs": [],
   "source": [
    "twentyPecentcolumns = data.iloc[int(-43128):]"
   ]
  },
  {
   "cell_type": "code",
   "execution_count": null,
   "metadata": {},
   "outputs": [],
   "source": [
    "plt.plot(x_test.values, y_test.values, color = 'blue', alpha=0.1)\n",
    "plt.plot(x_test.values, SVR_predict, color = 'red', alpha=0.1)\n",
    "plt.title('comparison of real data (blue) and predicted data (red)')\n",
    "plt.show()"
   ]
  },
  {
   "cell_type": "code",
   "execution_count": null,
   "metadata": {},
   "outputs": [],
   "source": [
    "plt.rc('font', size=12)\n",
    "fig, ax = plt.subplots(figsize=(20, 10))\n",
    "\n",
    "ax.plot(twentyPecentcolumns[\"Date_time\"], y_test.values, color='tab:orange', label='Windpower real')\n",
    "ax.plot(twentyPecentcolumns[\"Date_time\"], SVR_predict, color='tab:blue', label='Windpower predicted')\n",
    "ax.set_xlabel('Time')\n",
    "ax.set_ylabel('Windpower')\n",
    "ax.set_title('')\n",
    "ax.grid(True)\n",
    "ax.legend(loc='upper left');"
   ]
  },
  {
   "cell_type": "code",
   "execution_count": null,
   "metadata": {},
   "outputs": [],
   "source": [
    "print('Coefficients:', svr.coef_)\n",
    "y_pred = abs(SVR_predict) \n",
    "print(\"MAE: {}\".format(np.abs(y_test-SVR_predict).mean()))\n",
    "print(\"RMSE: {}\".format(np.sqrt(((y_test-SVR_predict)**2).mean())))\n",
    "from sklearn.metrics import r2_score\n",
    "r2 = r2_score(y_test.values, SVR_predict)\n",
    "print(\"r2: {}\".format(r2))"
   ]
  },
  {
   "cell_type": "code",
   "execution_count": null,
   "metadata": {},
   "outputs": [],
   "source": [
    "# compute the SHAP values for the linear model\n",
    "explainer = shap.LinearExplainer(svr, x_test)\n",
    "shap_values = explainer.shap_values(x_test)\n",
    "shap.summary_plot(shap_values, x, plot_type=\"bar\")"
   ]
  },
  {
   "cell_type": "markdown",
   "metadata": {},
   "source": [
    "smaller training data for a quicker training:"
   ]
  },
  {
   "cell_type": "code",
   "execution_count": 37,
   "metadata": {},
   "outputs": [],
   "source": [
    "x_trains, x_tests, y_trains, y_tests = train_test_split(x, y, test_size = 0.8, random_state = 42)\n"
   ]
  },
  {
   "cell_type": "code",
   "execution_count": 38,
   "metadata": {},
   "outputs": [],
   "source": [
    "from sklearn.preprocessing import StandardScaler\n",
    "sc_X = StandardScaler()\n",
    "sc_y = StandardScaler()\n",
    "X = sc_X.fit_transform(x_trains.values)\n",
    "yres = y_trains.values.reshape(-1,1)\n",
    "y = sc_y.fit_transform(yres)\n",
    "y = y.flatten()"
   ]
  },
  {
   "cell_type": "code",
   "execution_count": null,
   "metadata": {},
   "outputs": [],
   "source": []
  },
  {
   "cell_type": "code",
   "execution_count": 39,
   "metadata": {},
   "outputs": [],
   "source": [
    "from sklearn.svm import SVR\n",
    "svr_rbf = SVR(kernel=\"rbf\")\n",
    "svr_lin = SVR(kernel=\"linear\")\n",
    "svr_poly = SVR(kernel=\"poly\")"
   ]
  },
  {
   "cell_type": "code",
   "execution_count": 40,
   "metadata": {},
   "outputs": [],
   "source": [
    "rbf_model = svr_rbf.fit(x_train,y_train)"
   ]
  },
  {
   "cell_type": "code",
   "execution_count": 41,
   "metadata": {},
   "outputs": [],
   "source": [
    "lin_model = svr_lin.fit(x_train,y_train)"
   ]
  },
  {
   "cell_type": "code",
   "execution_count": 42,
   "metadata": {},
   "outputs": [],
   "source": [
    "poly_model = svr_poly.fit(x_train,y_train)"
   ]
  },
  {
   "cell_type": "code",
   "execution_count": 43,
   "metadata": {},
   "outputs": [
    {
     "name": "stderr",
     "output_type": "stream",
     "text": [
      "X does not have valid feature names, but SVR was fitted with feature names\n"
     ]
    }
   ],
   "source": [
    "rbf_predict = rbf_model.predict(x_test.values)\n"
   ]
  },
  {
   "cell_type": "code",
   "execution_count": 44,
   "metadata": {},
   "outputs": [
    {
     "name": "stderr",
     "output_type": "stream",
     "text": [
      "X does not have valid feature names, but SVR was fitted with feature names\n"
     ]
    }
   ],
   "source": [
    "lin_predict = lin_model.predict(x_test.values)"
   ]
  },
  {
   "cell_type": "code",
   "execution_count": 45,
   "metadata": {},
   "outputs": [
    {
     "name": "stderr",
     "output_type": "stream",
     "text": [
      "X does not have valid feature names, but SVR was fitted with feature names\n"
     ]
    }
   ],
   "source": [
    "poly_predict = poly_model.predict(x_test.values)"
   ]
  },
  {
   "cell_type": "markdown",
   "metadata": {},
   "source": [
    "RBF model:"
   ]
  },
  {
   "cell_type": "code",
   "execution_count": 46,
   "metadata": {},
   "outputs": [
    {
     "name": "stdout",
     "output_type": "stream",
     "text": [
      "MAE: 173.8468019747961\n",
      "RMSE: 281.8524601967515\n",
      "r2: 0.6207875945091801\n"
     ]
    }
   ],
   "source": [
    "#print('Coefficients:', rbf_model.coef_)\n",
    "y_pred = abs(rbf_predict) \n",
    "print(\"MAE: {}\".format(np.abs(y_test-rbf_predict).mean()))\n",
    "print(\"RMSE: {}\".format(np.sqrt(((y_test-rbf_predict)**2).mean())))\n",
    "from sklearn.metrics import r2_score\n",
    "r2 = r2_score(y_test.values, rbf_predict)\n",
    "print(\"r2: {}\".format(r2))"
   ]
  },
  {
   "cell_type": "markdown",
   "metadata": {},
   "source": [
    "linear model:"
   ]
  },
  {
   "cell_type": "code",
   "execution_count": 47,
   "metadata": {},
   "outputs": [
    {
     "name": "stdout",
     "output_type": "stream",
     "text": [
      "Coefficients: [[  6.15364616  -0.19465732   2.91381276  -4.93024619 193.0716583\n",
      "   -2.4919265 ]]\n",
      "MAE: 116.02663678530611\n",
      "RMSE: 209.89559068875604\n",
      "r2: 0.7896969810513124\n"
     ]
    }
   ],
   "source": [
    "print('Coefficients:', lin_model.coef_)\n",
    "y_pred = abs(lin_predict) \n",
    "print(\"MAE: {}\".format(np.abs(y_test-lin_predict).mean()))\n",
    "print(\"RMSE: {}\".format(np.sqrt(((y_test-lin_predict)**2).mean())))\n",
    "from sklearn.metrics import r2_score\n",
    "r2 = r2_score(y_test.values, lin_predict)\n",
    "print(\"r2: {}\".format(r2))"
   ]
  },
  {
   "cell_type": "markdown",
   "metadata": {},
   "source": [
    "poly model:"
   ]
  },
  {
   "cell_type": "code",
   "execution_count": 48,
   "metadata": {},
   "outputs": [
    {
     "name": "stdout",
     "output_type": "stream",
     "text": [
      "MAE: 174.30119867346536\n",
      "RMSE: 316.77094548766763\n",
      "r2: 0.5210065682974265\n"
     ]
    }
   ],
   "source": [
    "#print('Coefficients:', poly_model.coef_)\n",
    "y_pred = abs(poly_predict) \n",
    "print(\"MAE: {}\".format(np.abs(y_test-poly_predict).mean()))\n",
    "print(\"RMSE: {}\".format(np.sqrt(((y_test-poly_predict)**2).mean())))\n",
    "from sklearn.metrics import r2_score\n",
    "r2 = r2_score(y_test.values, poly_predict)\n",
    "print(\"r2: {}\".format(r2))"
   ]
  },
  {
   "cell_type": "code",
   "execution_count": null,
   "metadata": {},
   "outputs": [],
   "source": []
  }
 ],
 "metadata": {
  "kernelspec": {
   "display_name": "Python 3",
   "language": "python",
   "name": "python3"
  },
  "language_info": {
   "codemirror_mode": {
    "name": "ipython",
    "version": 3
   },
   "file_extension": ".py",
   "mimetype": "text/x-python",
   "name": "python",
   "nbconvert_exporter": "python",
   "pygments_lexer": "ipython3",
   "version": "3.8.5"
  }
 },
 "nbformat": 4,
 "nbformat_minor": 4
}

{
 "cells": [
  {
   "cell_type": "markdown",
   "metadata": {},
   "source": [
    "### all imports:"
   ]
  },
  {
   "cell_type": "code",
   "execution_count": 1,
   "metadata": {},
   "outputs": [],
   "source": [
    "import pandas as pd\n",
    "import shap\n",
    "import numpy as np\n",
    "import matplotlib.pyplot as plt\n",
    "import datetime as dt\n",
    "from datetime import datetime\n",
    "from matplotlib.pylab import rcParams\n",
    "from sklearn.model_selection import train_test_split\n",
    "from sklearn import linear_model\n",
    "rcParams['figure.figsize'] = 15, 6\n",
    "plt.rcParams['agg.path.chunksize'] = 10000"
   ]
  },
  {
   "cell_type": "markdown",
   "metadata": {},
   "source": [
    "### datacleaning:\n",
    "- we first load the dataset"
   ]
  },
  {
   "cell_type": "code",
   "execution_count": 2,
   "metadata": {},
   "outputs": [],
   "source": [
    "data = pd.read_csv('la-haute-borne-data-2017-2020.csv',sep=';')"
   ]
  },
  {
   "cell_type": "code",
   "execution_count": 3,
   "metadata": {},
   "outputs": [
    {
     "data": {
      "text/html": [
       "<div>\n",
       "<style scoped>\n",
       "    .dataframe tbody tr th:only-of-type {\n",
       "        vertical-align: middle;\n",
       "    }\n",
       "\n",
       "    .dataframe tbody tr th {\n",
       "        vertical-align: top;\n",
       "    }\n",
       "\n",
       "    .dataframe thead th {\n",
       "        text-align: right;\n",
       "    }\n",
       "</style>\n",
       "<table border=\"1\" class=\"dataframe\">\n",
       "  <thead>\n",
       "    <tr style=\"text-align: right;\">\n",
       "      <th></th>\n",
       "      <th>Wind_turbine_name</th>\n",
       "      <th>Date_time</th>\n",
       "      <th>Ba_avg</th>\n",
       "      <th>Ba_min</th>\n",
       "      <th>Ba_max</th>\n",
       "      <th>Ba_std</th>\n",
       "      <th>Rt_avg</th>\n",
       "      <th>Rt_min</th>\n",
       "      <th>Rt_max</th>\n",
       "      <th>Rt_std</th>\n",
       "      <th>...</th>\n",
       "      <th>Pas_max</th>\n",
       "      <th>Pas_std</th>\n",
       "      <th>Wa_c_avg</th>\n",
       "      <th>Wa_c_min</th>\n",
       "      <th>Wa_c_max</th>\n",
       "      <th>Wa_c_std</th>\n",
       "      <th>Na_c_avg</th>\n",
       "      <th>Na_c_min</th>\n",
       "      <th>Na_c_max</th>\n",
       "      <th>Na_c_std</th>\n",
       "    </tr>\n",
       "  </thead>\n",
       "  <tbody>\n",
       "    <tr>\n",
       "      <th>0</th>\n",
       "      <td>R80721</td>\n",
       "      <td>2017-02-08T08:00:00+01:00</td>\n",
       "      <td>44.990002</td>\n",
       "      <td>44.990002</td>\n",
       "      <td>44.990002</td>\n",
       "      <td>0.0</td>\n",
       "      <td>14.0</td>\n",
       "      <td>14.0</td>\n",
       "      <td>14.0</td>\n",
       "      <td>0.0</td>\n",
       "      <td>...</td>\n",
       "      <td>NaN</td>\n",
       "      <td>NaN</td>\n",
       "      <td>358.04999</td>\n",
       "      <td>NaN</td>\n",
       "      <td>NaN</td>\n",
       "      <td>NaN</td>\n",
       "      <td>358.04999</td>\n",
       "      <td>NaN</td>\n",
       "      <td>NaN</td>\n",
       "      <td>NaN</td>\n",
       "    </tr>\n",
       "    <tr>\n",
       "      <th>1</th>\n",
       "      <td>R80721</td>\n",
       "      <td>2017-01-26T02:40:00+01:00</td>\n",
       "      <td>-1.000000</td>\n",
       "      <td>-1.000000</td>\n",
       "      <td>-1.000000</td>\n",
       "      <td>0.0</td>\n",
       "      <td>10.0</td>\n",
       "      <td>10.0</td>\n",
       "      <td>10.0</td>\n",
       "      <td>0.0</td>\n",
       "      <td>...</td>\n",
       "      <td>NaN</td>\n",
       "      <td>NaN</td>\n",
       "      <td>NaN</td>\n",
       "      <td>NaN</td>\n",
       "      <td>NaN</td>\n",
       "      <td>NaN</td>\n",
       "      <td>NaN</td>\n",
       "      <td>NaN</td>\n",
       "      <td>NaN</td>\n",
       "      <td>NaN</td>\n",
       "    </tr>\n",
       "    <tr>\n",
       "      <th>2</th>\n",
       "      <td>R80721</td>\n",
       "      <td>2017-01-26T13:50:00+01:00</td>\n",
       "      <td>-1.000000</td>\n",
       "      <td>-1.000000</td>\n",
       "      <td>-1.000000</td>\n",
       "      <td>0.0</td>\n",
       "      <td>10.0</td>\n",
       "      <td>10.0</td>\n",
       "      <td>10.0</td>\n",
       "      <td>0.0</td>\n",
       "      <td>...</td>\n",
       "      <td>NaN</td>\n",
       "      <td>NaN</td>\n",
       "      <td>NaN</td>\n",
       "      <td>NaN</td>\n",
       "      <td>NaN</td>\n",
       "      <td>NaN</td>\n",
       "      <td>NaN</td>\n",
       "      <td>NaN</td>\n",
       "      <td>NaN</td>\n",
       "      <td>NaN</td>\n",
       "    </tr>\n",
       "    <tr>\n",
       "      <th>3</th>\n",
       "      <td>R80721</td>\n",
       "      <td>2017-01-26T15:00:00+01:00</td>\n",
       "      <td>-1.000000</td>\n",
       "      <td>-1.000000</td>\n",
       "      <td>-1.000000</td>\n",
       "      <td>0.0</td>\n",
       "      <td>10.0</td>\n",
       "      <td>10.0</td>\n",
       "      <td>10.0</td>\n",
       "      <td>0.0</td>\n",
       "      <td>...</td>\n",
       "      <td>NaN</td>\n",
       "      <td>NaN</td>\n",
       "      <td>NaN</td>\n",
       "      <td>NaN</td>\n",
       "      <td>NaN</td>\n",
       "      <td>NaN</td>\n",
       "      <td>NaN</td>\n",
       "      <td>NaN</td>\n",
       "      <td>NaN</td>\n",
       "      <td>NaN</td>\n",
       "    </tr>\n",
       "    <tr>\n",
       "      <th>4</th>\n",
       "      <td>R80721</td>\n",
       "      <td>2017-02-18T01:10:00+01:00</td>\n",
       "      <td>44.990002</td>\n",
       "      <td>44.990002</td>\n",
       "      <td>44.990002</td>\n",
       "      <td>0.0</td>\n",
       "      <td>17.0</td>\n",
       "      <td>17.0</td>\n",
       "      <td>17.0</td>\n",
       "      <td>0.0</td>\n",
       "      <td>...</td>\n",
       "      <td>NaN</td>\n",
       "      <td>NaN</td>\n",
       "      <td>7.99000</td>\n",
       "      <td>NaN</td>\n",
       "      <td>NaN</td>\n",
       "      <td>NaN</td>\n",
       "      <td>7.99000</td>\n",
       "      <td>NaN</td>\n",
       "      <td>NaN</td>\n",
       "      <td>NaN</td>\n",
       "    </tr>\n",
       "  </tbody>\n",
       "</table>\n",
       "<p>5 rows × 138 columns</p>\n",
       "</div>"
      ],
      "text/plain": [
       "  Wind_turbine_name                  Date_time     Ba_avg     Ba_min  \\\n",
       "0            R80721  2017-02-08T08:00:00+01:00  44.990002  44.990002   \n",
       "1            R80721  2017-01-26T02:40:00+01:00  -1.000000  -1.000000   \n",
       "2            R80721  2017-01-26T13:50:00+01:00  -1.000000  -1.000000   \n",
       "3            R80721  2017-01-26T15:00:00+01:00  -1.000000  -1.000000   \n",
       "4            R80721  2017-02-18T01:10:00+01:00  44.990002  44.990002   \n",
       "\n",
       "      Ba_max  Ba_std  Rt_avg  Rt_min  Rt_max  Rt_std  ...  Pas_max  Pas_std  \\\n",
       "0  44.990002     0.0    14.0    14.0    14.0     0.0  ...      NaN      NaN   \n",
       "1  -1.000000     0.0    10.0    10.0    10.0     0.0  ...      NaN      NaN   \n",
       "2  -1.000000     0.0    10.0    10.0    10.0     0.0  ...      NaN      NaN   \n",
       "3  -1.000000     0.0    10.0    10.0    10.0     0.0  ...      NaN      NaN   \n",
       "4  44.990002     0.0    17.0    17.0    17.0     0.0  ...      NaN      NaN   \n",
       "\n",
       "    Wa_c_avg  Wa_c_min  Wa_c_max  Wa_c_std   Na_c_avg  Na_c_min  Na_c_max  \\\n",
       "0  358.04999       NaN       NaN       NaN  358.04999       NaN       NaN   \n",
       "1        NaN       NaN       NaN       NaN        NaN       NaN       NaN   \n",
       "2        NaN       NaN       NaN       NaN        NaN       NaN       NaN   \n",
       "3        NaN       NaN       NaN       NaN        NaN       NaN       NaN   \n",
       "4    7.99000       NaN       NaN       NaN    7.99000       NaN       NaN   \n",
       "\n",
       "   Na_c_std  \n",
       "0       NaN  \n",
       "1       NaN  \n",
       "2       NaN  \n",
       "3       NaN  \n",
       "4       NaN  \n",
       "\n",
       "[5 rows x 138 columns]"
      ]
     },
     "execution_count": 3,
     "metadata": {},
     "output_type": "execute_result"
    }
   ],
   "source": [
    "data.head()"
   ]
  },
  {
   "cell_type": "markdown",
   "metadata": {},
   "source": [
    "- then we remove all empty columns"
   ]
  },
  {
   "cell_type": "code",
   "execution_count": 4,
   "metadata": {},
   "outputs": [
    {
     "name": "stderr",
     "output_type": "stream",
     "text": [
      "In a future version of pandas all arguments of DataFrame.drop except for the argument 'labels' will be keyword-only.\n",
      "In a future version of pandas all arguments of DataFrame.drop except for the argument 'labels' will be keyword-only.\n",
      "In a future version of pandas all arguments of DataFrame.drop except for the argument 'labels' will be keyword-only.\n"
     ]
    }
   ],
   "source": [
    "data = data.drop('Va1_avg', 1)\n",
    "data = data.drop('Va2_avg', 1)\n",
    "data = data.drop('Pas_avg', 1)"
   ]
  },
  {
   "cell_type": "code",
   "execution_count": 5,
   "metadata": {},
   "outputs": [
    {
     "data": {
      "text/plain": [
       "0     -1.89000\n",
       "1    197.32001\n",
       "2    176.45000\n",
       "3    190.61000\n",
       "4     -2.88000\n",
       "Name: P_avg, dtype: float64"
      ]
     },
     "execution_count": 5,
     "metadata": {},
     "output_type": "execute_result"
    }
   ],
   "source": [
    "data[\"P_avg\"].head()"
   ]
  },
  {
   "cell_type": "markdown",
   "metadata": {},
   "source": [
    "- then we clip our windpower, so we do not have negative power"
   ]
  },
  {
   "cell_type": "code",
   "execution_count": 6,
   "metadata": {},
   "outputs": [],
   "source": [
    "data[\"P_avg\"] = data[\"P_avg\"].clip(lower=0)"
   ]
  },
  {
   "cell_type": "code",
   "execution_count": 7,
   "metadata": {},
   "outputs": [
    {
     "data": {
      "text/plain": [
       "0      0.00000\n",
       "1    197.32001\n",
       "2    176.45000\n",
       "3    190.61000\n",
       "4      0.00000\n",
       "Name: P_avg, dtype: float64"
      ]
     },
     "execution_count": 7,
     "metadata": {},
     "output_type": "execute_result"
    }
   ],
   "source": [
    "data[\"P_avg\"].head()"
   ]
  },
  {
   "cell_type": "markdown",
   "metadata": {},
   "source": [
    "- we have to convert our timestamp to a usefull format"
   ]
  },
  {
   "cell_type": "code",
   "execution_count": 8,
   "metadata": {},
   "outputs": [],
   "source": [
    "data['Date_time'] = pd.to_datetime(data['Date_time'], utc=True)\n",
    "\n",
    "data[\"date\"] = pd.to_datetime(data['Date_time']).apply(lambda x: x.date())\n",
    "data['monthdate'] = pd.DatetimeIndex(data['Date_time']).month\n",
    "data['year'] = data['Date_time'].dt.year\n",
    "data['month'] = data['Date_time'].dt.month\n",
    "data['day'] = data['Date_time'].dt.day\n",
    "data['year'] = data[\"year\"].values\n",
    "data['month'] = data[\"month\"].values\n",
    "data['day'] = data[\"day\"].values"
   ]
  },
  {
   "cell_type": "code",
   "execution_count": 9,
   "metadata": {},
   "outputs": [
    {
     "name": "stdout",
     "output_type": "stream",
     "text": [
      "days:  0     8\n",
      "1    26\n",
      "2    26\n",
      "3    26\n",
      "4    18\n",
      "Name: day, dtype: int64\n",
      "\n",
      "months:  0    2\n",
      "1    1\n",
      "2    1\n",
      "3    1\n",
      "4    2\n",
      "Name: month, dtype: int64\n",
      "\n",
      "years : 0    2017\n",
      "1    2017\n",
      "2    2017\n",
      "3    2017\n",
      "4    2017\n",
      "Name: year, dtype: int64\n"
     ]
    }
   ],
   "source": [
    "print(\"days: \",data['day'].head()) \n",
    "print(\"\")\n",
    "print(\"months: \",data['month'].head()) \n",
    "print(\"\")\n",
    "print(\"years :\",data['year'].head())"
   ]
  },
  {
   "cell_type": "markdown",
   "metadata": {},
   "source": [
    "\n",
    "\n",
    "- first we drop NaNs and delete outliers"
   ]
  },
  {
   "cell_type": "code",
   "execution_count": 10,
   "metadata": {},
   "outputs": [],
   "source": [
    "selected_columns = data[[\"Date_time\",\"P_avg\",\"day\",\"Ba_avg\",\"Rt_avg\",\"Yt_avg\",\"Ws_avg\",\"Ot_avg\"]]\n",
    "df = selected_columns.copy()\n",
    "df.dropna(axis = 0, how ='any', inplace=True)\n",
    "df = df[df['P_avg'].notna()]\n",
    "df = df[df['Ba_avg'].notna()]\n",
    "df = df[df['Rt_avg'].notna()]\n",
    "df = df[df['Yt_avg'].notna()]\n",
    "df = df[df['Ws_avg'].notna()]\n",
    "df = df[df['Ot_avg'].notna()]"
   ]
  },
  {
   "cell_type": "code",
   "execution_count": 11,
   "metadata": {},
   "outputs": [],
   "source": [
    "Ws = df.sort_values(by=[\"Ws_avg\"], ascending=False) # Wind speed\n",
    "Ot = df.sort_values(by=[\"Ot_avg\"], ascending=False) # temperature\n",
    "Yt = df.sort_values(by=[\"Yt_avg\"], ascending=False) # nacelle temperature\n",
    "Rt = df.sort_values(by=[\"Rt_avg\"], ascending=False) # hub temperature\n",
    "Ba = df.sort_values(by=[\"Ba_avg\"], ascending=False) # pitch angle"
   ]
  },
  {
   "cell_type": "markdown",
   "metadata": {},
   "source": [
    "- we look at every column to see whether there appear some untypical numbers or not."
   ]
  },
  {
   "cell_type": "code",
   "execution_count": 12,
   "metadata": {},
   "outputs": [
    {
     "data": {
      "text/html": [
       "<div>\n",
       "<style scoped>\n",
       "    .dataframe tbody tr th:only-of-type {\n",
       "        vertical-align: middle;\n",
       "    }\n",
       "\n",
       "    .dataframe tbody tr th {\n",
       "        vertical-align: top;\n",
       "    }\n",
       "\n",
       "    .dataframe thead th {\n",
       "        text-align: right;\n",
       "    }\n",
       "</style>\n",
       "<table border=\"1\" class=\"dataframe\">\n",
       "  <thead>\n",
       "    <tr style=\"text-align: right;\">\n",
       "      <th></th>\n",
       "      <th>Date_time</th>\n",
       "      <th>P_avg</th>\n",
       "      <th>day</th>\n",
       "      <th>Ba_avg</th>\n",
       "      <th>Rt_avg</th>\n",
       "      <th>Yt_avg</th>\n",
       "      <th>Ws_avg</th>\n",
       "      <th>Ot_avg</th>\n",
       "    </tr>\n",
       "  </thead>\n",
       "  <tbody>\n",
       "    <tr>\n",
       "      <th>212826</th>\n",
       "      <td>2018-01-03 07:20:00+00:00</td>\n",
       "      <td>284.88</td>\n",
       "      <td>3</td>\n",
       "      <td>78.71</td>\n",
       "      <td>18.32</td>\n",
       "      <td>16.30</td>\n",
       "      <td>24.27</td>\n",
       "      <td>8.12</td>\n",
       "    </tr>\n",
       "    <tr>\n",
       "      <th>210705</th>\n",
       "      <td>2018-01-03 07:20:00+00:00</td>\n",
       "      <td>545.07</td>\n",
       "      <td>3</td>\n",
       "      <td>66.90</td>\n",
       "      <td>17.92</td>\n",
       "      <td>16.36</td>\n",
       "      <td>23.48</td>\n",
       "      <td>7.76</td>\n",
       "    </tr>\n",
       "    <tr>\n",
       "      <th>177441</th>\n",
       "      <td>2018-01-03 07:20:00+00:00</td>\n",
       "      <td>1296.88</td>\n",
       "      <td>3</td>\n",
       "      <td>44.33</td>\n",
       "      <td>19.00</td>\n",
       "      <td>16.07</td>\n",
       "      <td>23.00</td>\n",
       "      <td>7.77</td>\n",
       "    </tr>\n",
       "    <tr>\n",
       "      <th>212232</th>\n",
       "      <td>2018-01-03 04:30:00+00:00</td>\n",
       "      <td>2048.26</td>\n",
       "      <td>3</td>\n",
       "      <td>19.92</td>\n",
       "      <td>18.00</td>\n",
       "      <td>19.32</td>\n",
       "      <td>21.67</td>\n",
       "      <td>12.54</td>\n",
       "    </tr>\n",
       "    <tr>\n",
       "      <th>173248</th>\n",
       "      <td>2018-01-03 05:20:00+00:00</td>\n",
       "      <td>1436.69</td>\n",
       "      <td>3</td>\n",
       "      <td>38.10</td>\n",
       "      <td>18.77</td>\n",
       "      <td>18.46</td>\n",
       "      <td>21.30</td>\n",
       "      <td>11.39</td>\n",
       "    </tr>\n",
       "  </tbody>\n",
       "</table>\n",
       "</div>"
      ],
      "text/plain": [
       "                       Date_time    P_avg  day  Ba_avg  Rt_avg  Yt_avg  \\\n",
       "212826 2018-01-03 07:20:00+00:00   284.88    3   78.71   18.32   16.30   \n",
       "210705 2018-01-03 07:20:00+00:00   545.07    3   66.90   17.92   16.36   \n",
       "177441 2018-01-03 07:20:00+00:00  1296.88    3   44.33   19.00   16.07   \n",
       "212232 2018-01-03 04:30:00+00:00  2048.26    3   19.92   18.00   19.32   \n",
       "173248 2018-01-03 05:20:00+00:00  1436.69    3   38.10   18.77   18.46   \n",
       "\n",
       "        Ws_avg  Ot_avg  \n",
       "212826   24.27    8.12  \n",
       "210705   23.48    7.76  \n",
       "177441   23.00    7.77  \n",
       "212232   21.67   12.54  \n",
       "173248   21.30   11.39  "
      ]
     },
     "execution_count": 12,
     "metadata": {},
     "output_type": "execute_result"
    }
   ],
   "source": [
    "Ws.head() "
   ]
  },
  {
   "cell_type": "markdown",
   "metadata": {},
   "source": [
    "--> no outliers in Windspeed"
   ]
  },
  {
   "cell_type": "code",
   "execution_count": 13,
   "metadata": {},
   "outputs": [
    {
     "data": {
      "text/html": [
       "<div>\n",
       "<style scoped>\n",
       "    .dataframe tbody tr th:only-of-type {\n",
       "        vertical-align: middle;\n",
       "    }\n",
       "\n",
       "    .dataframe tbody tr th {\n",
       "        vertical-align: top;\n",
       "    }\n",
       "\n",
       "    .dataframe thead th {\n",
       "        text-align: right;\n",
       "    }\n",
       "</style>\n",
       "<table border=\"1\" class=\"dataframe\">\n",
       "  <thead>\n",
       "    <tr style=\"text-align: right;\">\n",
       "      <th></th>\n",
       "      <th>Date_time</th>\n",
       "      <th>P_avg</th>\n",
       "      <th>day</th>\n",
       "      <th>Ba_avg</th>\n",
       "      <th>Rt_avg</th>\n",
       "      <th>Yt_avg</th>\n",
       "      <th>Ws_avg</th>\n",
       "      <th>Ot_avg</th>\n",
       "    </tr>\n",
       "  </thead>\n",
       "  <tbody>\n",
       "    <tr>\n",
       "      <th>74205</th>\n",
       "      <td>2017-02-03 13:50:00+00:00</td>\n",
       "      <td>4.3</td>\n",
       "      <td>3</td>\n",
       "      <td>75.300003</td>\n",
       "      <td>15.46</td>\n",
       "      <td>39.560001</td>\n",
       "      <td>7.90</td>\n",
       "      <td>70.980003</td>\n",
       "    </tr>\n",
       "    <tr>\n",
       "      <th>15679</th>\n",
       "      <td>2017-02-03 13:40:00+00:00</td>\n",
       "      <td>0.0</td>\n",
       "      <td>3</td>\n",
       "      <td>91.699997</td>\n",
       "      <td>15.16</td>\n",
       "      <td>56.090000</td>\n",
       "      <td>6.08</td>\n",
       "      <td>68.699997</td>\n",
       "    </tr>\n",
       "    <tr>\n",
       "      <th>108390</th>\n",
       "      <td>2017-06-21 12:00:00+00:00</td>\n",
       "      <td>0.0</td>\n",
       "      <td>21</td>\n",
       "      <td>45.000000</td>\n",
       "      <td>36.00</td>\n",
       "      <td>41.630000</td>\n",
       "      <td>2.70</td>\n",
       "      <td>35.870000</td>\n",
       "    </tr>\n",
       "    <tr>\n",
       "      <th>108384</th>\n",
       "      <td>2017-06-21 11:30:00+00:00</td>\n",
       "      <td>0.0</td>\n",
       "      <td>21</td>\n",
       "      <td>45.000000</td>\n",
       "      <td>35.00</td>\n",
       "      <td>40.530000</td>\n",
       "      <td>0.88</td>\n",
       "      <td>35.860000</td>\n",
       "    </tr>\n",
       "    <tr>\n",
       "      <th>100836</th>\n",
       "      <td>2017-06-21 12:00:00+00:00</td>\n",
       "      <td>0.0</td>\n",
       "      <td>21</td>\n",
       "      <td>43.910000</td>\n",
       "      <td>35.00</td>\n",
       "      <td>40.530000</td>\n",
       "      <td>1.07</td>\n",
       "      <td>35.700000</td>\n",
       "    </tr>\n",
       "  </tbody>\n",
       "</table>\n",
       "</div>"
      ],
      "text/plain": [
       "                       Date_time  P_avg  day     Ba_avg  Rt_avg     Yt_avg  \\\n",
       "74205  2017-02-03 13:50:00+00:00    4.3    3  75.300003   15.46  39.560001   \n",
       "15679  2017-02-03 13:40:00+00:00    0.0    3  91.699997   15.16  56.090000   \n",
       "108390 2017-06-21 12:00:00+00:00    0.0   21  45.000000   36.00  41.630000   \n",
       "108384 2017-06-21 11:30:00+00:00    0.0   21  45.000000   35.00  40.530000   \n",
       "100836 2017-06-21 12:00:00+00:00    0.0   21  43.910000   35.00  40.530000   \n",
       "\n",
       "        Ws_avg     Ot_avg  \n",
       "74205     7.90  70.980003  \n",
       "15679     6.08  68.699997  \n",
       "108390    2.70  35.870000  \n",
       "108384    0.88  35.860000  \n",
       "100836    1.07  35.700000  "
      ]
     },
     "execution_count": 13,
     "metadata": {},
     "output_type": "execute_result"
    }
   ],
   "source": [
    "Ot.head()"
   ]
  },
  {
   "cell_type": "markdown",
   "metadata": {},
   "source": [
    "--> two significant outliers which we will set to the more natural max of 35"
   ]
  },
  {
   "cell_type": "code",
   "execution_count": 14,
   "metadata": {},
   "outputs": [],
   "source": [
    "df[\"Ot_avg\"] = df[\"Ot_avg\"].clip(upper=36)"
   ]
  },
  {
   "cell_type": "code",
   "execution_count": 15,
   "metadata": {},
   "outputs": [
    {
     "data": {
      "text/html": [
       "<div>\n",
       "<style scoped>\n",
       "    .dataframe tbody tr th:only-of-type {\n",
       "        vertical-align: middle;\n",
       "    }\n",
       "\n",
       "    .dataframe tbody tr th {\n",
       "        vertical-align: top;\n",
       "    }\n",
       "\n",
       "    .dataframe thead th {\n",
       "        text-align: right;\n",
       "    }\n",
       "</style>\n",
       "<table border=\"1\" class=\"dataframe\">\n",
       "  <thead>\n",
       "    <tr style=\"text-align: right;\">\n",
       "      <th></th>\n",
       "      <th>Date_time</th>\n",
       "      <th>P_avg</th>\n",
       "      <th>day</th>\n",
       "      <th>Ba_avg</th>\n",
       "      <th>Rt_avg</th>\n",
       "      <th>Yt_avg</th>\n",
       "      <th>Ws_avg</th>\n",
       "      <th>Ot_avg</th>\n",
       "    </tr>\n",
       "  </thead>\n",
       "  <tbody>\n",
       "    <tr>\n",
       "      <th>15679</th>\n",
       "      <td>2017-02-03 13:40:00+00:00</td>\n",
       "      <td>0.0</td>\n",
       "      <td>3</td>\n",
       "      <td>91.699997</td>\n",
       "      <td>15.16</td>\n",
       "      <td>56.090000</td>\n",
       "      <td>6.08</td>\n",
       "      <td>36.00</td>\n",
       "    </tr>\n",
       "    <tr>\n",
       "      <th>74205</th>\n",
       "      <td>2017-02-03 13:50:00+00:00</td>\n",
       "      <td>4.3</td>\n",
       "      <td>3</td>\n",
       "      <td>75.300003</td>\n",
       "      <td>15.46</td>\n",
       "      <td>39.560001</td>\n",
       "      <td>7.90</td>\n",
       "      <td>36.00</td>\n",
       "    </tr>\n",
       "    <tr>\n",
       "      <th>108390</th>\n",
       "      <td>2017-06-21 12:00:00+00:00</td>\n",
       "      <td>0.0</td>\n",
       "      <td>21</td>\n",
       "      <td>45.000000</td>\n",
       "      <td>36.00</td>\n",
       "      <td>41.630000</td>\n",
       "      <td>2.70</td>\n",
       "      <td>35.87</td>\n",
       "    </tr>\n",
       "    <tr>\n",
       "      <th>108384</th>\n",
       "      <td>2017-06-21 11:30:00+00:00</td>\n",
       "      <td>0.0</td>\n",
       "      <td>21</td>\n",
       "      <td>45.000000</td>\n",
       "      <td>35.00</td>\n",
       "      <td>40.530000</td>\n",
       "      <td>0.88</td>\n",
       "      <td>35.86</td>\n",
       "    </tr>\n",
       "    <tr>\n",
       "      <th>100836</th>\n",
       "      <td>2017-06-21 12:00:00+00:00</td>\n",
       "      <td>0.0</td>\n",
       "      <td>21</td>\n",
       "      <td>43.910000</td>\n",
       "      <td>35.00</td>\n",
       "      <td>40.530000</td>\n",
       "      <td>1.07</td>\n",
       "      <td>35.70</td>\n",
       "    </tr>\n",
       "  </tbody>\n",
       "</table>\n",
       "</div>"
      ],
      "text/plain": [
       "                       Date_time  P_avg  day     Ba_avg  Rt_avg     Yt_avg  \\\n",
       "15679  2017-02-03 13:40:00+00:00    0.0    3  91.699997   15.16  56.090000   \n",
       "74205  2017-02-03 13:50:00+00:00    4.3    3  75.300003   15.46  39.560001   \n",
       "108390 2017-06-21 12:00:00+00:00    0.0   21  45.000000   36.00  41.630000   \n",
       "108384 2017-06-21 11:30:00+00:00    0.0   21  45.000000   35.00  40.530000   \n",
       "100836 2017-06-21 12:00:00+00:00    0.0   21  43.910000   35.00  40.530000   \n",
       "\n",
       "        Ws_avg  Ot_avg  \n",
       "15679     6.08   36.00  \n",
       "74205     7.90   36.00  \n",
       "108390    2.70   35.87  \n",
       "108384    0.88   35.86  \n",
       "100836    1.07   35.70  "
      ]
     },
     "execution_count": 15,
     "metadata": {},
     "output_type": "execute_result"
    }
   ],
   "source": [
    "clippedOt = df.sort_values(by=[\"Ot_avg\"], ascending=False) # temperature\n",
    "clippedOt.head()"
   ]
  },
  {
   "cell_type": "code",
   "execution_count": 16,
   "metadata": {},
   "outputs": [
    {
     "data": {
      "text/html": [
       "<div>\n",
       "<style scoped>\n",
       "    .dataframe tbody tr th:only-of-type {\n",
       "        vertical-align: middle;\n",
       "    }\n",
       "\n",
       "    .dataframe tbody tr th {\n",
       "        vertical-align: top;\n",
       "    }\n",
       "\n",
       "    .dataframe thead th {\n",
       "        text-align: right;\n",
       "    }\n",
       "</style>\n",
       "<table border=\"1\" class=\"dataframe\">\n",
       "  <thead>\n",
       "    <tr style=\"text-align: right;\">\n",
       "      <th></th>\n",
       "      <th>Date_time</th>\n",
       "      <th>P_avg</th>\n",
       "      <th>day</th>\n",
       "      <th>Ba_avg</th>\n",
       "      <th>Rt_avg</th>\n",
       "      <th>Yt_avg</th>\n",
       "      <th>Ws_avg</th>\n",
       "      <th>Ot_avg</th>\n",
       "    </tr>\n",
       "  </thead>\n",
       "  <tbody>\n",
       "    <tr>\n",
       "      <th>15679</th>\n",
       "      <td>2017-02-03 13:40:00+00:00</td>\n",
       "      <td>0.00</td>\n",
       "      <td>3</td>\n",
       "      <td>91.699997</td>\n",
       "      <td>15.16</td>\n",
       "      <td>56.09</td>\n",
       "      <td>6.08</td>\n",
       "      <td>68.699997</td>\n",
       "    </tr>\n",
       "    <tr>\n",
       "      <th>48060</th>\n",
       "      <td>2017-07-06 14:40:00+00:00</td>\n",
       "      <td>52.92</td>\n",
       "      <td>6</td>\n",
       "      <td>-0.710000</td>\n",
       "      <td>34.49</td>\n",
       "      <td>42.79</td>\n",
       "      <td>4.42</td>\n",
       "      <td>32.350000</td>\n",
       "    </tr>\n",
       "    <tr>\n",
       "      <th>129799</th>\n",
       "      <td>2017-07-08 07:20:00+00:00</td>\n",
       "      <td>0.00</td>\n",
       "      <td>8</td>\n",
       "      <td>45.000000</td>\n",
       "      <td>32.00</td>\n",
       "      <td>42.79</td>\n",
       "      <td>2.55</td>\n",
       "      <td>30.180000</td>\n",
       "    </tr>\n",
       "    <tr>\n",
       "      <th>158329</th>\n",
       "      <td>2017-06-21 13:50:00+00:00</td>\n",
       "      <td>74.15</td>\n",
       "      <td>21</td>\n",
       "      <td>-0.410000</td>\n",
       "      <td>36.00</td>\n",
       "      <td>42.70</td>\n",
       "      <td>4.76</td>\n",
       "      <td>34.370000</td>\n",
       "    </tr>\n",
       "    <tr>\n",
       "      <th>205953</th>\n",
       "      <td>2017-08-29 10:20:00+00:00</td>\n",
       "      <td>18.50</td>\n",
       "      <td>29</td>\n",
       "      <td>0.680000</td>\n",
       "      <td>32.96</td>\n",
       "      <td>42.69</td>\n",
       "      <td>4.12</td>\n",
       "      <td>32.460000</td>\n",
       "    </tr>\n",
       "  </tbody>\n",
       "</table>\n",
       "</div>"
      ],
      "text/plain": [
       "                       Date_time  P_avg  day     Ba_avg  Rt_avg  Yt_avg  \\\n",
       "15679  2017-02-03 13:40:00+00:00   0.00    3  91.699997   15.16   56.09   \n",
       "48060  2017-07-06 14:40:00+00:00  52.92    6  -0.710000   34.49   42.79   \n",
       "129799 2017-07-08 07:20:00+00:00   0.00    8  45.000000   32.00   42.79   \n",
       "158329 2017-06-21 13:50:00+00:00  74.15   21  -0.410000   36.00   42.70   \n",
       "205953 2017-08-29 10:20:00+00:00  18.50   29   0.680000   32.96   42.69   \n",
       "\n",
       "        Ws_avg     Ot_avg  \n",
       "15679     6.08  68.699997  \n",
       "48060     4.42  32.350000  \n",
       "129799    2.55  30.180000  \n",
       "158329    4.76  34.370000  \n",
       "205953    4.12  32.460000  "
      ]
     },
     "execution_count": 16,
     "metadata": {},
     "output_type": "execute_result"
    }
   ],
   "source": [
    "Yt.head()"
   ]
  },
  {
   "cell_type": "code",
   "execution_count": 17,
   "metadata": {},
   "outputs": [
    {
     "data": {
      "text/html": [
       "<div>\n",
       "<style scoped>\n",
       "    .dataframe tbody tr th:only-of-type {\n",
       "        vertical-align: middle;\n",
       "    }\n",
       "\n",
       "    .dataframe tbody tr th {\n",
       "        vertical-align: top;\n",
       "    }\n",
       "\n",
       "    .dataframe thead th {\n",
       "        text-align: right;\n",
       "    }\n",
       "</style>\n",
       "<table border=\"1\" class=\"dataframe\">\n",
       "  <thead>\n",
       "    <tr style=\"text-align: right;\">\n",
       "      <th></th>\n",
       "      <th>Date_time</th>\n",
       "      <th>P_avg</th>\n",
       "      <th>day</th>\n",
       "      <th>Ba_avg</th>\n",
       "      <th>Rt_avg</th>\n",
       "      <th>Yt_avg</th>\n",
       "      <th>Ws_avg</th>\n",
       "      <th>Ot_avg</th>\n",
       "    </tr>\n",
       "  </thead>\n",
       "  <tbody>\n",
       "    <tr>\n",
       "      <th>163009</th>\n",
       "      <td>2017-09-07 11:50:00+00:00</td>\n",
       "      <td>0.0</td>\n",
       "      <td>7</td>\n",
       "      <td>91.68</td>\n",
       "      <td>215.00</td>\n",
       "      <td>27.59</td>\n",
       "      <td>4.14</td>\n",
       "      <td>18.22</td>\n",
       "    </tr>\n",
       "    <tr>\n",
       "      <th>138342</th>\n",
       "      <td>2017-09-07 12:10:00+00:00</td>\n",
       "      <td>0.0</td>\n",
       "      <td>7</td>\n",
       "      <td>91.68</td>\n",
       "      <td>215.00</td>\n",
       "      <td>27.22</td>\n",
       "      <td>3.86</td>\n",
       "      <td>18.09</td>\n",
       "    </tr>\n",
       "    <tr>\n",
       "      <th>40783</th>\n",
       "      <td>2017-09-07 12:00:00+00:00</td>\n",
       "      <td>0.0</td>\n",
       "      <td>7</td>\n",
       "      <td>91.68</td>\n",
       "      <td>215.00</td>\n",
       "      <td>26.87</td>\n",
       "      <td>3.04</td>\n",
       "      <td>18.31</td>\n",
       "    </tr>\n",
       "    <tr>\n",
       "      <th>114277</th>\n",
       "      <td>2017-09-07 11:40:00+00:00</td>\n",
       "      <td>0.0</td>\n",
       "      <td>7</td>\n",
       "      <td>91.68</td>\n",
       "      <td>208.00</td>\n",
       "      <td>29.26</td>\n",
       "      <td>4.43</td>\n",
       "      <td>18.12</td>\n",
       "    </tr>\n",
       "    <tr>\n",
       "      <th>65624</th>\n",
       "      <td>2017-09-07 12:20:00+00:00</td>\n",
       "      <td>0.0</td>\n",
       "      <td>7</td>\n",
       "      <td>89.05</td>\n",
       "      <td>206.54</td>\n",
       "      <td>27.26</td>\n",
       "      <td>3.36</td>\n",
       "      <td>18.21</td>\n",
       "    </tr>\n",
       "  </tbody>\n",
       "</table>\n",
       "</div>"
      ],
      "text/plain": [
       "                       Date_time  P_avg  day  Ba_avg  Rt_avg  Yt_avg  Ws_avg  \\\n",
       "163009 2017-09-07 11:50:00+00:00    0.0    7   91.68  215.00   27.59    4.14   \n",
       "138342 2017-09-07 12:10:00+00:00    0.0    7   91.68  215.00   27.22    3.86   \n",
       "40783  2017-09-07 12:00:00+00:00    0.0    7   91.68  215.00   26.87    3.04   \n",
       "114277 2017-09-07 11:40:00+00:00    0.0    7   91.68  208.00   29.26    4.43   \n",
       "65624  2017-09-07 12:20:00+00:00    0.0    7   89.05  206.54   27.26    3.36   \n",
       "\n",
       "        Ot_avg  \n",
       "163009   18.22  \n",
       "138342   18.09  \n",
       "40783    18.31  \n",
       "114277   18.12  \n",
       "65624    18.21  "
      ]
     },
     "execution_count": 17,
     "metadata": {},
     "output_type": "execute_result"
    }
   ],
   "source": [
    "Rt.head()"
   ]
  },
  {
   "cell_type": "code",
   "execution_count": 18,
   "metadata": {},
   "outputs": [
    {
     "data": {
      "text/html": [
       "<div>\n",
       "<style scoped>\n",
       "    .dataframe tbody tr th:only-of-type {\n",
       "        vertical-align: middle;\n",
       "    }\n",
       "\n",
       "    .dataframe tbody tr th {\n",
       "        vertical-align: top;\n",
       "    }\n",
       "\n",
       "    .dataframe thead th {\n",
       "        text-align: right;\n",
       "    }\n",
       "</style>\n",
       "<table border=\"1\" class=\"dataframe\">\n",
       "  <thead>\n",
       "    <tr style=\"text-align: right;\">\n",
       "      <th></th>\n",
       "      <th>Date_time</th>\n",
       "      <th>P_avg</th>\n",
       "      <th>day</th>\n",
       "      <th>Ba_avg</th>\n",
       "      <th>Rt_avg</th>\n",
       "      <th>Yt_avg</th>\n",
       "      <th>Ws_avg</th>\n",
       "      <th>Ot_avg</th>\n",
       "    </tr>\n",
       "  </thead>\n",
       "  <tbody>\n",
       "    <tr>\n",
       "      <th>196885</th>\n",
       "      <td>2017-05-31 08:20:00+00:00</td>\n",
       "      <td>0.0</td>\n",
       "      <td>31</td>\n",
       "      <td>132.48</td>\n",
       "      <td>24.98</td>\n",
       "      <td>36.71</td>\n",
       "      <td>2.12</td>\n",
       "      <td>23.63</td>\n",
       "    </tr>\n",
       "    <tr>\n",
       "      <th>175114</th>\n",
       "      <td>2017-05-31 06:40:00+00:00</td>\n",
       "      <td>0.0</td>\n",
       "      <td>31</td>\n",
       "      <td>116.29</td>\n",
       "      <td>24.77</td>\n",
       "      <td>29.03</td>\n",
       "      <td>1.28</td>\n",
       "      <td>21.98</td>\n",
       "    </tr>\n",
       "    <tr>\n",
       "      <th>199986</th>\n",
       "      <td>2017-09-07 06:50:00+00:00</td>\n",
       "      <td>0.0</td>\n",
       "      <td>7</td>\n",
       "      <td>114.93</td>\n",
       "      <td>22.55</td>\n",
       "      <td>24.47</td>\n",
       "      <td>2.68</td>\n",
       "      <td>14.69</td>\n",
       "    </tr>\n",
       "    <tr>\n",
       "      <th>1315</th>\n",
       "      <td>2017-05-30 06:50:00+00:00</td>\n",
       "      <td>0.0</td>\n",
       "      <td>30</td>\n",
       "      <td>111.78</td>\n",
       "      <td>28.00</td>\n",
       "      <td>30.00</td>\n",
       "      <td>6.17</td>\n",
       "      <td>22.00</td>\n",
       "    </tr>\n",
       "    <tr>\n",
       "      <th>200879</th>\n",
       "      <td>2017-09-07 08:30:00+00:00</td>\n",
       "      <td>0.0</td>\n",
       "      <td>7</td>\n",
       "      <td>111.43</td>\n",
       "      <td>21.77</td>\n",
       "      <td>27.83</td>\n",
       "      <td>3.58</td>\n",
       "      <td>16.54</td>\n",
       "    </tr>\n",
       "  </tbody>\n",
       "</table>\n",
       "</div>"
      ],
      "text/plain": [
       "                       Date_time  P_avg  day  Ba_avg  Rt_avg  Yt_avg  Ws_avg  \\\n",
       "196885 2017-05-31 08:20:00+00:00    0.0   31  132.48   24.98   36.71    2.12   \n",
       "175114 2017-05-31 06:40:00+00:00    0.0   31  116.29   24.77   29.03    1.28   \n",
       "199986 2017-09-07 06:50:00+00:00    0.0    7  114.93   22.55   24.47    2.68   \n",
       "1315   2017-05-30 06:50:00+00:00    0.0   30  111.78   28.00   30.00    6.17   \n",
       "200879 2017-09-07 08:30:00+00:00    0.0    7  111.43   21.77   27.83    3.58   \n",
       "\n",
       "        Ot_avg  \n",
       "196885   23.63  \n",
       "175114   21.98  \n",
       "199986   14.69  \n",
       "1315     22.00  \n",
       "200879   16.54  "
      ]
     },
     "execution_count": 18,
     "metadata": {},
     "output_type": "execute_result"
    }
   ],
   "source": [
    "Ba.head()"
   ]
  },
  {
   "cell_type": "markdown",
   "metadata": {},
   "source": [
    "--> No more outliers in Yt, Rt and Ba"
   ]
  },
  {
   "cell_type": "markdown",
   "metadata": {},
   "source": [
    "Now we can split our data into test and training data for our Support Vector Regression Model"
   ]
  },
  {
   "cell_type": "code",
   "execution_count": 19,
   "metadata": {},
   "outputs": [],
   "source": [
    "# splitting the data\n",
    "df = df.sort_values(by=\"Date_time\")\n",
    "\n",
    "x = df[[\"Ba_avg\",\"day\",\"Rt_avg\",\"Yt_avg\",\"Ws_avg\",\"Ot_avg\"]]\n",
    "y = df['P_avg']\n",
    "\n",
    "x_train, x_test, y_train, y_test = train_test_split(x, y, test_size = 0.2, random_state = 42) #80-20 split\n"
   ]
  },
  {
   "cell_type": "markdown",
   "metadata": {},
   "source": [
    "We try different parameters:\n",
    "- Gamma defines how far the influence of a single training example reaches, with low values meaning ‘far’ and high values meaning ‘close’.\n",
    "- epsilon specifies the epsilon-tube within which no penalty is associated in the training loss function with points predicted within a distance epsilon from the actual value\n",
    "- C is the Regularization parameter. The strength of the regularization is inversely proportional to C. Must be strictly positive. The penalty is a squared l2 penalty  \n",
    "Large Value of parameter C => small margin  \n",
    "Small Value of paramerter C => Large margin"
   ]
  },
  {
   "cell_type": "code",
   "execution_count": 20,
   "metadata": {},
   "outputs": [],
   "source": [
    "from sklearn.svm import SVR\n",
    "svr_rbf = SVR(kernel=\"rbf\", gamma='scale', C=1.0, epsilon=0.1) # 1/(n_features * X.var()) as value of gamma, C = 1,0, epsilon = 0.1\n",
    "svr_rbf2 = SVR(kernel=\"rbf\", gamma='scale', C=10.0, epsilon=1) # 1/(n_features * X.var()) as value of gamma, C = 10, epsilon = 1\n",
    "svr_rbf3 = SVR(kernel=\"rbf\", gamma=\"auto\", C=1.0, epsilon=0.1) # uses 1 / n_features, C = 1, epsilon = 0.1\n",
    "svr_rbf4 = SVR(kernel=\"rbf\", gamma='scale', C=25.0, epsilon=5) # 1/(n_features * X.var()) as value of gamma, C = 25, epsilon = 5\n",
    "svr_rbf5 = SVR(kernel=\"rbf\", gamma='scale', C=50.0, epsilon=5) # 1/(n_features * X.var()) as value of gamma, C = 50, epsilon = 5\n",
    "svr_rbf6 = SVR(kernel=\"rbf\", gamma='scale', C=100.0, epsilon=20) # 1/(n_features * X.var()) as value of gamma, C = 100, epsilon = 20\n",
    "svr_rbf7 = SVR(kernel=\"rbf\", gamma='scale', C=150.0, epsilon=25) # 1/(n_features * X.var()) as value of gamma, C = 150, epsilon = 25\n",
    "svr_rbf8 = SVR(kernel=\"rbf\", gamma='scale', C=250.0, epsilon=50) # 1/(n_features * X.var()) as value of gamma, C = 250, epsilon = 50\n",
    "svr_rbf9 = SVR(kernel=\"rbf\", gamma='scale', C=350.0, epsilon=100) # 1/(n_features * X.var()) as value of gamma, C = 350, epsilon = 100\n",
    "\n",
    "svr_rbf10 = SVR(kernel=\"rbf\", gamma='scale', C=175.0, epsilon=30) # 1/(n_features * X.var()) as value of gamma, C = 175, epsilon = 30\n",
    "svr_rbf11 = SVR(kernel=\"rbf\", gamma='scale', C=180.0, epsilon=35) # 1/(n_features * X.var()) as value of gamma, C = 180, epsilon = 35\n",
    "svr_rbf12 = SVR(kernel=\"rbf\", gamma='scale', C=160.0, epsilon=40) # 1/(n_features * X.var()) as value of gamma, C = 160, epsilon = 40\n",
    "svr_rbf13 = SVR(kernel=\"rbf\", gamma='scale', C=175.0, epsilon=25) # 1/(n_features * X.var()) as value of gamma, C = 175, epsilon = 25\n",
    "svr_rbf14 = SVR(kernel=\"rbf\", gamma='scale', C=185.0, epsilon=40) # 1/(n_features * X.var()) as value of gamma, C = 185, epsilon = 40\n",
    "\n",
    "svr_rbf15 = SVR(kernel=\"rbf\", gamma='scale', C=170.0, epsilon=30) # 1/(n_features * X.var()) as value of gamma, C = 170, epsilon = 30\n"
   ]
  },
  {
   "cell_type": "code",
   "execution_count": 21,
   "metadata": {},
   "outputs": [],
   "source": [
    "rbf_model = svr_rbf.fit(x_train,y_train)"
   ]
  },
  {
   "cell_type": "code",
   "execution_count": 22,
   "metadata": {},
   "outputs": [],
   "source": [
    "rbf_model2 = svr_rbf2.fit(x_train,y_train)"
   ]
  },
  {
   "cell_type": "code",
   "execution_count": 23,
   "metadata": {},
   "outputs": [],
   "source": [
    "rbf_model3 = svr_rbf3.fit(x_train,y_train)"
   ]
  },
  {
   "cell_type": "code",
   "execution_count": 24,
   "metadata": {},
   "outputs": [],
   "source": [
    "rbf_model4 = svr_rbf4.fit(x_train,y_train)"
   ]
  },
  {
   "cell_type": "code",
   "execution_count": 25,
   "metadata": {},
   "outputs": [],
   "source": [
    "rbf_model5 = svr_rbf5.fit(x_train,y_train)"
   ]
  },
  {
   "cell_type": "code",
   "execution_count": 26,
   "metadata": {},
   "outputs": [],
   "source": [
    "rbf_model6 = svr_rbf6.fit(x_train,y_train)"
   ]
  },
  {
   "cell_type": "code",
   "execution_count": 27,
   "metadata": {},
   "outputs": [],
   "source": [
    "rbf_model7 = svr_rbf7.fit(x_train,y_train)"
   ]
  },
  {
   "cell_type": "code",
   "execution_count": 28,
   "metadata": {},
   "outputs": [],
   "source": [
    "rbf_model8 = svr_rbf8.fit(x_train,y_train)"
   ]
  },
  {
   "cell_type": "code",
   "execution_count": 29,
   "metadata": {},
   "outputs": [],
   "source": [
    "rbf_model9 = svr_rbf9.fit(x_train,y_train)"
   ]
  },
  {
   "cell_type": "code",
   "execution_count": 30,
   "metadata": {},
   "outputs": [],
   "source": [
    "rbf_model10 = svr_rbf10.fit(x_train,y_train)"
   ]
  },
  {
   "cell_type": "code",
   "execution_count": 31,
   "metadata": {},
   "outputs": [],
   "source": [
    "rbf_model11 = svr_rbf11.fit(x_train,y_train)"
   ]
  },
  {
   "cell_type": "code",
   "execution_count": 32,
   "metadata": {},
   "outputs": [],
   "source": [
    "rbf_model12 = svr_rbf12.fit(x_train,y_train)"
   ]
  },
  {
   "cell_type": "code",
   "execution_count": 33,
   "metadata": {},
   "outputs": [],
   "source": [
    "rbf_model13 = svr_rbf13.fit(x_train,y_train)"
   ]
  },
  {
   "cell_type": "code",
   "execution_count": 34,
   "metadata": {},
   "outputs": [],
   "source": [
    "rbf_model14 = svr_rbf14.fit(x_train,y_train)"
   ]
  },
  {
   "cell_type": "code",
   "execution_count": 35,
   "metadata": {},
   "outputs": [],
   "source": [
    "rbf_model15 = svr_rbf15.fit(x_train,y_train)"
   ]
  },
  {
   "cell_type": "code",
   "execution_count": 36,
   "metadata": {},
   "outputs": [
    {
     "name": "stderr",
     "output_type": "stream",
     "text": [
      "X does not have valid feature names, but SVR was fitted with feature names\n"
     ]
    }
   ],
   "source": [
    "rbf_predict = rbf_model.predict(x_test.values)"
   ]
  },
  {
   "cell_type": "code",
   "execution_count": 37,
   "metadata": {},
   "outputs": [
    {
     "name": "stderr",
     "output_type": "stream",
     "text": [
      "X does not have valid feature names, but SVR was fitted with feature names\n"
     ]
    }
   ],
   "source": [
    "rbf_predict2 = rbf_model2.predict(x_test.values)"
   ]
  },
  {
   "cell_type": "code",
   "execution_count": 38,
   "metadata": {},
   "outputs": [
    {
     "name": "stderr",
     "output_type": "stream",
     "text": [
      "X does not have valid feature names, but SVR was fitted with feature names\n"
     ]
    }
   ],
   "source": [
    "rbf_predict3 = rbf_model3.predict(x_test.values)"
   ]
  },
  {
   "cell_type": "code",
   "execution_count": 39,
   "metadata": {},
   "outputs": [
    {
     "name": "stderr",
     "output_type": "stream",
     "text": [
      "X does not have valid feature names, but SVR was fitted with feature names\n"
     ]
    }
   ],
   "source": [
    "rbf_predict4 = rbf_model4.predict(x_test.values)"
   ]
  },
  {
   "cell_type": "code",
   "execution_count": 40,
   "metadata": {},
   "outputs": [
    {
     "name": "stderr",
     "output_type": "stream",
     "text": [
      "X does not have valid feature names, but SVR was fitted with feature names\n"
     ]
    }
   ],
   "source": [
    "rbf_predict5 = rbf_model5.predict(x_test.values)"
   ]
  },
  {
   "cell_type": "code",
   "execution_count": 41,
   "metadata": {},
   "outputs": [
    {
     "name": "stderr",
     "output_type": "stream",
     "text": [
      "X does not have valid feature names, but SVR was fitted with feature names\n"
     ]
    }
   ],
   "source": [
    "rbf_predict6 = rbf_model6.predict(x_test.values)"
   ]
  },
  {
   "cell_type": "code",
   "execution_count": 42,
   "metadata": {},
   "outputs": [
    {
     "name": "stderr",
     "output_type": "stream",
     "text": [
      "X does not have valid feature names, but SVR was fitted with feature names\n"
     ]
    }
   ],
   "source": [
    "rbf_predict7 = rbf_model7.predict(x_test.values)"
   ]
  },
  {
   "cell_type": "code",
   "execution_count": 43,
   "metadata": {},
   "outputs": [
    {
     "name": "stderr",
     "output_type": "stream",
     "text": [
      "X does not have valid feature names, but SVR was fitted with feature names\n"
     ]
    }
   ],
   "source": [
    "rbf_predict8 = rbf_model8.predict(x_test.values)"
   ]
  },
  {
   "cell_type": "code",
   "execution_count": 44,
   "metadata": {},
   "outputs": [
    {
     "name": "stderr",
     "output_type": "stream",
     "text": [
      "X does not have valid feature names, but SVR was fitted with feature names\n"
     ]
    }
   ],
   "source": [
    "rbf_predict9 = rbf_model9.predict(x_test.values)"
   ]
  },
  {
   "cell_type": "code",
   "execution_count": 45,
   "metadata": {},
   "outputs": [
    {
     "name": "stderr",
     "output_type": "stream",
     "text": [
      "X does not have valid feature names, but SVR was fitted with feature names\n"
     ]
    }
   ],
   "source": [
    "rbf_predict10 = rbf_model10.predict(x_test.values)"
   ]
  },
  {
   "cell_type": "code",
   "execution_count": 46,
   "metadata": {},
   "outputs": [
    {
     "name": "stderr",
     "output_type": "stream",
     "text": [
      "X does not have valid feature names, but SVR was fitted with feature names\n"
     ]
    }
   ],
   "source": [
    "rbf_predict11 = rbf_model11.predict(x_test.values)"
   ]
  },
  {
   "cell_type": "code",
   "execution_count": 47,
   "metadata": {},
   "outputs": [
    {
     "name": "stderr",
     "output_type": "stream",
     "text": [
      "X does not have valid feature names, but SVR was fitted with feature names\n"
     ]
    }
   ],
   "source": [
    "rbf_predict12 = rbf_model12.predict(x_test.values)"
   ]
  },
  {
   "cell_type": "code",
   "execution_count": 48,
   "metadata": {},
   "outputs": [
    {
     "name": "stderr",
     "output_type": "stream",
     "text": [
      "X does not have valid feature names, but SVR was fitted with feature names\n"
     ]
    }
   ],
   "source": [
    "rbf_predict13 = rbf_model13.predict(x_test.values)"
   ]
  },
  {
   "cell_type": "code",
   "execution_count": 49,
   "metadata": {},
   "outputs": [
    {
     "name": "stderr",
     "output_type": "stream",
     "text": [
      "X does not have valid feature names, but SVR was fitted with feature names\n"
     ]
    }
   ],
   "source": [
    "rbf_predict14 = rbf_model14.predict(x_test.values)"
   ]
  },
  {
   "cell_type": "code",
   "execution_count": 50,
   "metadata": {},
   "outputs": [
    {
     "name": "stderr",
     "output_type": "stream",
     "text": [
      "X does not have valid feature names, but SVR was fitted with feature names\n"
     ]
    }
   ],
   "source": [
    "rbf_predict15 = rbf_model15.predict(x_test.values)"
   ]
  },
  {
   "cell_type": "markdown",
   "metadata": {},
   "source": [
    "#### RBF model evaluation with different parameters:"
   ]
  },
  {
   "cell_type": "code",
   "execution_count": 51,
   "metadata": {},
   "outputs": [
    {
     "name": "stdout",
     "output_type": "stream",
     "text": [
      "MAE: 77.70472583432307\n",
      "RMSE: 125.48614240836373\n",
      "r2: 0.924832446749225\n",
      "empirical: 127.60042815889634\n",
      "gaussian: 178.22371466191947\n"
     ]
    }
   ],
   "source": [
    "# Model 1 \n",
    "# 1/(n_features * X.var()) as value of gamma, C = 1,0, epsilon = 0.1\n",
    "\n",
    "y_pred = abs(rbf_predict) \n",
    "print(\"MAE: {}\".format(np.abs(y_test-rbf_predict).mean()))\n",
    "print(\"RMSE: {}\".format(np.sqrt(((y_test-rbf_predict)**2).mean())))\n",
    "from sklearn.metrics import r2_score\n",
    "r2 = r2_score(y_test.values, rbf_predict)\n",
    "print(\"r2: {}\".format(r2))\n",
    "# CRPS: a scalar, representing the mean CRPS for the data\n",
    "# https://pypi.org/project/ensverif/#description\n",
    "import ensverif # from Laval-University Kanada\n",
    "\n",
    "emp = ensverif.crps.crps(rbf_predict, y_test, distribution = 'emp')\n",
    "gaussian = ensverif.crps.crps(rbf_predict, y_test, distribution = 'normal_exact')\n",
    "\n",
    "print(\"empirical:\",emp)\n",
    "print(\"gaussian:\",gaussian)"
   ]
  },
  {
   "cell_type": "code",
   "execution_count": 52,
   "metadata": {},
   "outputs": [
    {
     "name": "stdout",
     "output_type": "stream",
     "text": [
      "MAE: 49.737600270568606\n",
      "RMSE: 81.99620019153276\n",
      "r2: 0.9679058165621246\n",
      "empirical: 124.08509143309283\n",
      "gaussian: 188.89091938936502\n"
     ]
    }
   ],
   "source": [
    "# Model 2\n",
    "# 1/(n_features * X.var()) as value of gamma, C = 10, epsilon = 1\n",
    "\n",
    "y_pred = abs(rbf_predict2) \n",
    "print(\"MAE: {}\".format(np.abs(y_test-rbf_predict2).mean()))\n",
    "print(\"RMSE: {}\".format(np.sqrt(((y_test-rbf_predict2)**2).mean())))\n",
    "from sklearn.metrics import r2_score\n",
    "r2 = r2_score(y_test.values, rbf_predict2)\n",
    "print(\"r2: {}\".format(r2))\n",
    "# CRPS: a scalar, representing the mean CRPS for the data\n",
    "# https://pypi.org/project/ensverif/#description\n",
    "import ensverif # from Laval-University Kanada\n",
    "\n",
    "emp = ensverif.crps.crps(rbf_predict2, y_test, distribution = 'emp')\n",
    "gaussian = ensverif.crps.crps(rbf_predict2, y_test, distribution = 'normal_exact')\n",
    "\n",
    "print(\"empirical:\",emp)\n",
    "print(\"gaussian:\",gaussian)"
   ]
  },
  {
   "cell_type": "code",
   "execution_count": 53,
   "metadata": {},
   "outputs": [
    {
     "name": "stdout",
     "output_type": "stream",
     "text": [
      "MAE: 233.40052076620947\n",
      "RMSE: 433.52284186951545\n",
      "r2: 0.10285457611170656\n",
      "empirical: 96.58502111774492\n",
      "gaussian: 100.38621867638108\n"
     ]
    }
   ],
   "source": [
    "# Model 3\n",
    "# uses 1 / n_features, C = 1, epsilon = 0.1\n",
    "\n",
    "y_pred = abs(rbf_predict3) \n",
    "print(\"MAE: {}\".format(np.abs(y_test-rbf_predict3).mean()))\n",
    "print(\"RMSE: {}\".format(np.sqrt(((y_test-rbf_predict3)**2).mean())))\n",
    "from sklearn.metrics import r2_score\n",
    "r2 = r2_score(y_test.values, rbf_predict3)\n",
    "print(\"r2: {}\".format(r2))\n",
    "# CRPS: a scalar, representing the mean CRPS for the data\n",
    "# https://pypi.org/project/ensverif/#description\n",
    "import ensverif # from Laval-University Kanada\n",
    "\n",
    "emp = ensverif.crps.crps(rbf_predict3, y_test, distribution = 'emp')\n",
    "gaussian = ensverif.crps.crps(rbf_predict3, y_test, distribution = 'normal_exact')\n",
    "\n",
    "print(\"empirical:\",emp)\n",
    "print(\"gaussian:\",gaussian)"
   ]
  },
  {
   "cell_type": "code",
   "execution_count": 54,
   "metadata": {},
   "outputs": [
    {
     "name": "stdout",
     "output_type": "stream",
     "text": [
      "MAE: 45.927041586239795\n",
      "RMSE: 74.60693865490866\n",
      "r2: 0.973429647488268\n",
      "empirical: 123.41628520413767\n",
      "gaussian: 190.2927435969616\n"
     ]
    }
   ],
   "source": [
    "# Model 4\n",
    "# 1/(n_features * X.var()) as value of gamma, C = 25, epsilon = 5\n",
    "\n",
    "y_pred = abs(rbf_predict4) \n",
    "print(\"MAE: {}\".format(np.abs(y_test-rbf_predict4).mean()))\n",
    "print(\"RMSE: {}\".format(np.sqrt(((y_test-rbf_predict4)**2).mean())))\n",
    "from sklearn.metrics import r2_score\n",
    "r2 = r2_score(y_test.values, rbf_predict4)\n",
    "print(\"r2: {}\".format(r2))\n",
    "# CRPS: a scalar, representing the mean CRPS for the data\n",
    "# https://pypi.org/project/ensverif/#description\n",
    "import ensverif # from Laval-University Kanada\n",
    "\n",
    "emp = ensverif.crps.crps(rbf_predict4, y_test, distribution = 'emp')\n",
    "gaussian = ensverif.crps.crps(rbf_predict4, y_test, distribution = 'normal_exact')\n",
    "\n",
    "print(\"empirical:\",emp)\n",
    "print(\"gaussian:\",gaussian)"
   ]
  },
  {
   "cell_type": "code",
   "execution_count": 55,
   "metadata": {},
   "outputs": [
    {
     "name": "stdout",
     "output_type": "stream",
     "text": [
      "MAE: 42.75926862672341\n",
      "RMSE: 68.8083508670512\n",
      "r2: 0.9773993372472995\n",
      "empirical: 122.83028644114428\n",
      "gaussian: 191.25563835612968\n"
     ]
    }
   ],
   "source": [
    "# Model 5\n",
    "# 1/(n_features * X.var()) as value of gamma, C = 50, epsilon = 5\n",
    "\n",
    "y_pred = abs(rbf_predict5) \n",
    "print(\"MAE: {}\".format(np.abs(y_test-rbf_predict5).mean()))\n",
    "print(\"RMSE: {}\".format(np.sqrt(((y_test-rbf_predict5)**2).mean())))\n",
    "from sklearn.metrics import r2_score\n",
    "r2 = r2_score(y_test.values, rbf_predict5)\n",
    "print(\"r2: {}\".format(r2))\n",
    "# CRPS: a scalar, representing the mean CRPS for the data\n",
    "# https://pypi.org/project/ensverif/#description\n",
    "import ensverif # from Laval-University Kanada\n",
    "\n",
    "emp = ensverif.crps.crps(rbf_predict5, y_test, distribution = 'emp')\n",
    "gaussian = ensverif.crps.crps(rbf_predict5, y_test, distribution = 'normal_exact')\n",
    "\n",
    "print(\"empirical:\",emp)\n",
    "print(\"gaussian:\",gaussian)"
   ]
  },
  {
   "cell_type": "code",
   "execution_count": 56,
   "metadata": {},
   "outputs": [
    {
     "name": "stdout",
     "output_type": "stream",
     "text": [
      "MAE: 41.188283953966874\n",
      "RMSE: 64.0141658095327\n",
      "r2: 0.9804389998138299\n",
      "empirical: 122.62966796469826\n",
      "gaussian: 192.53004314483206\n"
     ]
    }
   ],
   "source": [
    "# Model 6\n",
    "# 1/(n_features * X.var()) as value of gamma, C = 100, epsilon = 20\n",
    "\n",
    "y_pred = abs(rbf_predict6) \n",
    "print(\"MAE: {}\".format(np.abs(y_test-rbf_predict6).mean()))\n",
    "print(\"RMSE: {}\".format(np.sqrt(((y_test-rbf_predict6)**2).mean())))\n",
    "from sklearn.metrics import r2_score\n",
    "r2 = r2_score(y_test.values, rbf_predict6)\n",
    "print(\"r2: {}\".format(r2))\n",
    "# CRPS: a scalar, representing the mean CRPS for the data\n",
    "# https://pypi.org/project/ensverif/#description\n",
    "import ensverif # from Laval-University Kanada\n",
    "\n",
    "emp = ensverif.crps.crps(rbf_predict6, y_test, distribution = 'emp')\n",
    "gaussian = ensverif.crps.crps(rbf_predict6, y_test, distribution = 'normal_exact')\n",
    "\n",
    "print(\"empirical:\",emp)\n",
    "print(\"gaussian:\",gaussian)"
   ]
  },
  {
   "cell_type": "code",
   "execution_count": 57,
   "metadata": {},
   "outputs": [
    {
     "name": "stdout",
     "output_type": "stream",
     "text": [
      "MAE: 40.3454395123244\n",
      "RMSE: 62.02481452389692\n",
      "r2: 0.981635892563855\n",
      "empirical: 122.44467506931407\n",
      "gaussian: 193.020702478292\n"
     ]
    }
   ],
   "source": [
    "# Model 7\n",
    "# 1/(n_features * X.var()) as value of gamma, C = 150, epsilon = 25\n",
    "\n",
    "y_pred = abs(rbf_predict7) \n",
    "print(\"MAE: {}\".format(np.abs(y_test-rbf_predict7).mean()))\n",
    "print(\"RMSE: {}\".format(np.sqrt(((y_test-rbf_predict7)**2).mean())))\n",
    "from sklearn.metrics import r2_score\n",
    "r2 = r2_score(y_test.values, rbf_predict7)\n",
    "print(\"r2: {}\".format(r2))\n",
    "# CRPS: a scalar, representing the mean CRPS for the data\n",
    "# https://pypi.org/project/ensverif/#description\n",
    "import ensverif # from Laval-University Kanada\n",
    "\n",
    "emp = ensverif.crps.crps(rbf_predict7, y_test, distribution = 'emp')\n",
    "gaussian = ensverif.crps.crps(rbf_predict7, y_test, distribution = 'normal_exact')\n",
    "\n",
    "print(\"empirical:\",emp)\n",
    "print(\"gaussian:\",gaussian)"
   ]
  },
  {
   "cell_type": "code",
   "execution_count": 58,
   "metadata": {},
   "outputs": [
    {
     "name": "stdout",
     "output_type": "stream",
     "text": [
      "MAE: 41.32812048170074\n",
      "RMSE: 61.335581528625056\n",
      "r2: 0.9820417567135233\n",
      "empirical: 123.26076425557402\n",
      "gaussian: 194.7245870259795\n"
     ]
    }
   ],
   "source": [
    "# Model 8\n",
    "# 1/(n_features * X.var()) as value of gamma, C = 250, epsilon = 50\n",
    "\n",
    "y_pred = abs(rbf_predict8) \n",
    "print(\"MAE: {}\".format(np.abs(y_test-rbf_predict8).mean()))\n",
    "print(\"RMSE: {}\".format(np.sqrt(((y_test-rbf_predict8)**2).mean())))\n",
    "from sklearn.metrics import r2_score\n",
    "r2 = r2_score(y_test.values, rbf_predict8)\n",
    "print(\"r2: {}\".format(r2))\n",
    "# CRPS: a scalar, representing the mean CRPS for the data\n",
    "# https://pypi.org/project/ensverif/#description\n",
    "import ensverif # from Laval-University Kanada\n",
    "\n",
    "emp = ensverif.crps.crps(rbf_predict8, y_test, distribution = 'emp')\n",
    "gaussian = ensverif.crps.crps(rbf_predict8, y_test, distribution = 'normal_exact')\n",
    "\n",
    "print(\"empirical:\",emp)\n",
    "print(\"gaussian:\",gaussian)"
   ]
  },
  {
   "cell_type": "code",
   "execution_count": 59,
   "metadata": {},
   "outputs": [
    {
     "name": "stdout",
     "output_type": "stream",
     "text": [
      "MAE: 48.433583362724974\n",
      "RMSE: 65.7027526082145\n",
      "r2: 0.9793934159099038\n",
      "empirical: 131.34863762078098\n",
      "gaussian: 201.26306254474397\n"
     ]
    }
   ],
   "source": [
    "# Model 9\n",
    "# 1/(n_features * X.var()) as value of gamma, C = 350, epsilon = 100\n",
    "\n",
    "y_pred = abs(rbf_predict9) \n",
    "print(\"MAE: {}\".format(np.abs(y_test-rbf_predict9).mean()))\n",
    "print(\"RMSE: {}\".format(np.sqrt(((y_test-rbf_predict9)**2).mean())))\n",
    "from sklearn.metrics import r2_score\n",
    "r2 = r2_score(y_test.values, rbf_predict9)\n",
    "print(\"r2: {}\".format(r2))\n",
    "# CRPS: a scalar, representing the mean CRPS for the data\n",
    "# https://pypi.org/project/ensverif/#description\n",
    "import ensverif # from Laval-University Kanada\n",
    "\n",
    "emp = ensverif.crps.crps(rbf_predict9, y_test, distribution = 'emp')\n",
    "gaussian = ensverif.crps.crps(rbf_predict9, y_test, distribution = 'normal_exact')\n",
    "\n",
    "print(\"empirical:\",emp)\n",
    "print(\"gaussian:\",gaussian)"
   ]
  },
  {
   "cell_type": "code",
   "execution_count": 60,
   "metadata": {},
   "outputs": [
    {
     "name": "stdout",
     "output_type": "stream",
     "text": [
      "MAE: 40.44282522091589\n",
      "RMSE: 61.55985843097144\n",
      "r2: 0.9819101860108411\n",
      "empirical: 122.55980669440272\n",
      "gaussian: 193.3165453380701\n"
     ]
    }
   ],
   "source": [
    "# Model 10\n",
    "# 1/(n_features * X.var()) as value of gamma, C = 175, epsilon = 30\n",
    "\n",
    "y_pred = abs(rbf_predict10) \n",
    "print(\"MAE: {}\".format(np.abs(y_test-rbf_predict10).mean()))\n",
    "print(\"RMSE: {}\".format(np.sqrt(((y_test-rbf_predict10)**2).mean())))\n",
    "from sklearn.metrics import r2_score\n",
    "r2 = r2_score(y_test.values, rbf_predict10)\n",
    "print(\"r2: {}\".format(r2))\n",
    "# CRPS: a scalar, representing the mean CRPS for the data\n",
    "# https://pypi.org/project/ensverif/#description\n",
    "import ensverif # from Laval-University Kanada\n",
    "\n",
    "emp = ensverif.crps.crps(rbf_predict10, y_test, distribution = 'emp')\n",
    "gaussian = ensverif.crps.crps(rbf_predict10, y_test, distribution = 'normal_exact')\n",
    "\n",
    "print(\"empirical:\",emp)\n",
    "print(\"gaussian:\",gaussian)"
   ]
  },
  {
   "cell_type": "code",
   "execution_count": 61,
   "metadata": {},
   "outputs": [
    {
     "name": "stdout",
     "output_type": "stream",
     "text": [
      "MAE: 40.85212500656238\n",
      "RMSE: 61.70479667588892\n",
      "r2: 0.9818249034094348\n",
      "empirical: 122.83631216982238\n",
      "gaussian: 193.5294492907179\n"
     ]
    }
   ],
   "source": [
    "# Model 11\n",
    "# 1/(n_features * X.var()) as value of gamma, C = 180, epsilon = 35\n",
    "\n",
    "y_pred = abs(rbf_predict11) \n",
    "print(\"MAE: {}\".format(np.abs(y_test-rbf_predict11).mean()))\n",
    "print(\"RMSE: {}\".format(np.sqrt(((y_test-rbf_predict11)**2).mean())))\n",
    "from sklearn.metrics import r2_score\n",
    "r2 = r2_score(y_test.values, rbf_predict11)\n",
    "print(\"r2: {}\".format(r2))\n",
    "# CRPS: a scalar, representing the mean CRPS for the data\n",
    "# https://pypi.org/project/ensverif/#description\n",
    "import ensverif # from Laval-University Kanada\n",
    "\n",
    "emp = ensverif.crps.crps(rbf_predict11, y_test, distribution = 'emp')\n",
    "gaussian = ensverif.crps.crps(rbf_predict11, y_test, distribution = 'normal_exact')\n",
    "\n",
    "print(\"empirical:\",emp)\n",
    "print(\"gaussian:\",gaussian)"
   ]
  },
  {
   "cell_type": "code",
   "execution_count": 62,
   "metadata": {},
   "outputs": [
    {
     "name": "stdout",
     "output_type": "stream",
     "text": [
      "MAE: 41.55066685616138\n",
      "RMSE: 62.519146833479105\n",
      "r2: 0.9813420054469144\n",
      "empirical: 123.08090336212514\n",
      "gaussian: 194.07917743622406\n"
     ]
    }
   ],
   "source": [
    "# Model 12\n",
    "# 1/(n_features * X.var()) as value of gamma, C = 160, epsilon = 40\n",
    "\n",
    "y_pred = abs(rbf_predict12) \n",
    "print(\"MAE: {}\".format(np.abs(y_test-rbf_predict12).mean()))\n",
    "print(\"RMSE: {}\".format(np.sqrt(((y_test-rbf_predict12)**2).mean())))\n",
    "from sklearn.metrics import r2_score\n",
    "r2 = r2_score(y_test.values, rbf_predict12)\n",
    "print(\"r2: {}\".format(r2))\n",
    "# CRPS: a scalar, representing the mean CRPS for the data\n",
    "# https://pypi.org/project/ensverif/#description\n",
    "import ensverif # from Laval-University Kanada\n",
    "\n",
    "emp = ensverif.crps.crps(rbf_predict12, y_test, distribution = 'emp')\n",
    "gaussian = ensverif.crps.crps(rbf_predict12, y_test, distribution = 'normal_exact')\n",
    "\n",
    "print(\"empirical:\",emp)\n",
    "print(\"gaussian:\",gaussian)"
   ]
  },
  {
   "cell_type": "code",
   "execution_count": 63,
   "metadata": {},
   "outputs": [
    {
     "name": "stdout",
     "output_type": "stream",
     "text": [
      "MAE: 39.909980554786046\n",
      "RMSE: 61.323414149840296\n",
      "r2: 0.9820488809004996\n",
      "empirical: 122.29933360593365\n",
      "gaussian: 193.13673194427102\n"
     ]
    }
   ],
   "source": [
    "# Model 13\n",
    "# 1/(n_features * X.var()) as value of gamma, C = 175, epsilon = 25\n",
    "\n",
    "y_pred = abs(rbf_predict13) \n",
    "print(\"MAE: {}\".format(np.abs(y_test-rbf_predict13).mean()))\n",
    "print(\"RMSE: {}\".format(np.sqrt(((y_test-rbf_predict13)**2).mean())))\n",
    "from sklearn.metrics import r2_score\n",
    "r2 = r2_score(y_test.values, rbf_predict13)\n",
    "print(\"r2: {}\".format(r2))\n",
    "# CRPS: a scalar, representing the mean CRPS for the data\n",
    "# https://pypi.org/project/ensverif/#description\n",
    "import ensverif # from Laval-University Kanada\n",
    "\n",
    "emp = ensverif.crps.crps(rbf_predict13, y_test, distribution = 'emp')\n",
    "gaussian = ensverif.crps.crps(rbf_predict13, y_test, distribution = 'normal_exact')\n",
    "\n",
    "print(\"empirical:\",emp)\n",
    "print(\"gaussian:\",gaussian)"
   ]
  },
  {
   "cell_type": "code",
   "execution_count": 64,
   "metadata": {},
   "outputs": [
    {
     "name": "stdout",
     "output_type": "stream",
     "text": [
      "MAE: 41.118998199512006\n",
      "RMSE: 61.85193839093356\n",
      "r2: 0.9817381191196157\n",
      "empirical: 122.97423762743745\n",
      "gaussian: 193.99936116316252\n"
     ]
    }
   ],
   "source": [
    "# Model 14\n",
    "# 1/(n_features * X.var()) as value of gamma, C = 185, epsilon = 40\n",
    "\n",
    "y_pred = abs(rbf_predict14) \n",
    "print(\"MAE: {}\".format(np.abs(y_test-rbf_predict14).mean()))\n",
    "print(\"RMSE: {}\".format(np.sqrt(((y_test-rbf_predict14)**2).mean())))\n",
    "from sklearn.metrics import r2_score\n",
    "r2 = r2_score(y_test.values, rbf_predict14)\n",
    "print(\"r2: {}\".format(r2))\n",
    "# CRPS: a scalar, representing the mean CRPS for the data\n",
    "# https://pypi.org/project/ensverif/#description\n",
    "import ensverif # from Laval-University Kanada\n",
    "\n",
    "emp = ensverif.crps.crps(rbf_predict14, y_test, distribution = 'emp')\n",
    "gaussian = ensverif.crps.crps(rbf_predict14, y_test, distribution = 'normal_exact')\n",
    "\n",
    "print(\"empirical:\",emp)\n",
    "print(\"gaussian:\",gaussian)"
   ]
  },
  {
   "cell_type": "code",
   "execution_count": 65,
   "metadata": {},
   "outputs": [
    {
     "name": "stdout",
     "output_type": "stream",
     "text": [
      "MAE: 40.51735493564172\n",
      "RMSE: 61.67958442649443\n",
      "r2: 0.9818397528693309\n",
      "empirical: 122.5960562322116\n",
      "gaussian: 193.3004545490732\n"
     ]
    }
   ],
   "source": [
    "# Model 15\n",
    "# 1/(n_features * X.var()) as value of gamma, C = 170, epsilon = 30\n",
    "\n",
    "y_pred = abs(rbf_predict15) \n",
    "print(\"MAE: {}\".format(np.abs(y_test-rbf_predict15).mean()))\n",
    "print(\"RMSE: {}\".format(np.sqrt(((y_test-rbf_predict15)**2).mean())))\n",
    "from sklearn.metrics import r2_score\n",
    "r2 = r2_score(y_test.values, rbf_predict15)\n",
    "print(\"r2: {}\".format(r2))\n",
    "# CRPS: a scalar, representing the mean CRPS for the data\n",
    "# https://pypi.org/project/ensverif/#description\n",
    "import ensverif # from Laval-University Kanada\n",
    "\n",
    "emp = ensverif.crps.crps(rbf_predict15, y_test, distribution = 'emp')\n",
    "gaussian = ensverif.crps.crps(rbf_predict15, y_test, distribution = 'normal_exact')\n",
    "\n",
    "print(\"empirical:\",emp)\n",
    "print(\"gaussian:\",gaussian)"
   ]
  },
  {
   "cell_type": "code",
   "execution_count": null,
   "metadata": {},
   "outputs": [],
   "source": []
  },
  {
   "cell_type": "markdown",
   "metadata": {},
   "source": [
    "#### we plot the best model:"
   ]
  },
  {
   "cell_type": "code",
   "execution_count": 66,
   "metadata": {},
   "outputs": [
    {
     "data": {
      "image/png": "[encoded data removed]",
      "text/plain": [
       "<Figure size 1080x432 with 1 Axes>"
      ]
     },
     "metadata": {
      "needs_background": "light"
     },
     "output_type": "display_data"
    }
   ],
   "source": [
    "plt.plot(x_test.values, y_test.values, color = 'blue', alpha=0.1)\n",
    "plt.plot(x_test.values, rbf_predict13, color = 'red', alpha=0.1)\n",
    "plt.title('comparison of real data (blue) and predicted data (red)')\n",
    "plt.show()"
   ]
  },
  {
   "cell_type": "code",
   "execution_count": 67,
   "metadata": {},
   "outputs": [],
   "source": [
    "sort = data.sort_values(by=[\"Date_time\"], inplace=False)\n",
    "time = sort[\"Date_time\"]\n",
    "lasttwentyPecent = time.iloc[int(-43128):]"
   ]
  },
  {
   "cell_type": "markdown",
   "metadata": {},
   "source": [
    "#### we plot the real data and predicted data to have a comparison:"
   ]
  },
  {
   "cell_type": "code",
   "execution_count": 68,
   "metadata": {},
   "outputs": [
    {
     "data": {
      "image/png": "[encoded data removed]",
      "text/plain": [
       "<Figure size 1080x720 with 1 Axes>"
      ]
     },
     "metadata": {
      "needs_background": "light"
     },
     "output_type": "display_data"
    }
   ],
   "source": [
    "plt.rc('font', size=12)\n",
    "fig, ax = plt.subplots(figsize=(15, 10))\n",
    "\n",
    "x1 = lasttwentyPecent[::750]\n",
    "y1 = y_test[::750]\n",
    "y2 = rbf_predict13[::750]\n",
    "\n",
    "ax.plot(x1, y1, color='tab:orange', label='Windpower real')\n",
    "ax.plot(x1, y2, color='tab:blue', label='Windpower predicted')\n",
    "ax.set_xlabel('Time')\n",
    "ax.set_ylabel('Windpower')\n",
    "ax.set_title('')\n",
    "ax.grid(True)\n",
    "ax.legend(loc='upper right');"
   ]
  },
  {
   "cell_type": "code",
   "execution_count": null,
   "metadata": {},
   "outputs": [],
   "source": []
  },
  {
   "cell_type": "code",
   "execution_count": null,
   "metadata": {},
   "outputs": [],
   "source": []
  },
  {
   "cell_type": "code",
   "execution_count": null,
   "metadata": {},
   "outputs": [],
   "source": []
  },
  {
   "cell_type": "code",
   "execution_count": null,
   "metadata": {},
   "outputs": [],
   "source": []
  }
 ],
 "metadata": {
  "kernelspec": {
   "display_name": "Python 3",
   "language": "python",
   "name": "python3"
  },
  "language_info": {
   "codemirror_mode": {
    "name": "ipython",
    "version": 3
   },
   "file_extension": ".py",
   "mimetype": "text/x-python",
   "name": "python",
   "nbconvert_exporter": "python",
   "pygments_lexer": "ipython3",
   "version": "3.8.5"
  }
 },
 "nbformat": 4,
 "nbformat_minor": 4
}

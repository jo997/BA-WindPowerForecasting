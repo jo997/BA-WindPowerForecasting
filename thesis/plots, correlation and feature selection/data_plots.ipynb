{
 "cells": [
  {
   "cell_type": "code",
   "execution_count": 1,
   "metadata": {
    "scrolled": true
   },
   "outputs": [
    {
     "ename": "KeyboardInterrupt",
     "evalue": "",
     "output_type": "error",
     "traceback": [
      "\u001b[1;31m---------------------------------------------------------------------------\u001b[0m",
      "\u001b[1;31mKeyboardInterrupt\u001b[0m                         Traceback (most recent call last)",
      "\u001b[1;32mC:\\Users\\JOHANN~1.GAU\\AppData\\Local\\Temp/ipykernel_7676/3974055113.py\u001b[0m in \u001b[0;36m<module>\u001b[1;34m\u001b[0m\n\u001b[1;32m----> 1\u001b[1;33m \u001b[1;32mimport\u001b[0m \u001b[0mpandas\u001b[0m \u001b[1;32mas\u001b[0m \u001b[0mpd\u001b[0m\u001b[1;33m\u001b[0m\u001b[1;33m\u001b[0m\u001b[0m\n\u001b[0m\u001b[0;32m      2\u001b[0m \u001b[1;32mimport\u001b[0m \u001b[0mnumpy\u001b[0m \u001b[1;32mas\u001b[0m \u001b[0mnp\u001b[0m\u001b[1;33m\u001b[0m\u001b[1;33m\u001b[0m\u001b[0m\n\u001b[0;32m      3\u001b[0m \u001b[1;32mimport\u001b[0m \u001b[0mscipy\u001b[0m\u001b[1;33m\u001b[0m\u001b[1;33m\u001b[0m\u001b[0m\n\u001b[0;32m      4\u001b[0m \u001b[1;32mimport\u001b[0m \u001b[0mmatplotlib\u001b[0m\u001b[1;33m.\u001b[0m\u001b[0mpyplot\u001b[0m \u001b[1;32mas\u001b[0m \u001b[0mplot\u001b[0m\u001b[1;33m\u001b[0m\u001b[1;33m\u001b[0m\u001b[0m\n\u001b[0;32m      5\u001b[0m \u001b[1;32mimport\u001b[0m \u001b[0mplotly\u001b[0m\u001b[1;33m.\u001b[0m\u001b[0mexpress\u001b[0m \u001b[1;32mas\u001b[0m \u001b[0mpx\u001b[0m\u001b[1;33m\u001b[0m\u001b[1;33m\u001b[0m\u001b[0m\n",
      "\u001b[1;32mC:\\ProgramData\\Anaconda3\\lib\\site-packages\\pandas\\__init__.py\u001b[0m in \u001b[0;36m<module>\u001b[1;34m\u001b[0m\n\u001b[0;32m      9\u001b[0m \u001b[1;32mfor\u001b[0m \u001b[0mdependency\u001b[0m \u001b[1;32min\u001b[0m \u001b[0mhard_dependencies\u001b[0m\u001b[1;33m:\u001b[0m\u001b[1;33m\u001b[0m\u001b[1;33m\u001b[0m\u001b[0m\n\u001b[0;32m     10\u001b[0m     \u001b[1;32mtry\u001b[0m\u001b[1;33m:\u001b[0m\u001b[1;33m\u001b[0m\u001b[1;33m\u001b[0m\u001b[0m\n\u001b[1;32m---> 11\u001b[1;33m         \u001b[0m__import__\u001b[0m\u001b[1;33m(\u001b[0m\u001b[0mdependency\u001b[0m\u001b[1;33m)\u001b[0m\u001b[1;33m\u001b[0m\u001b[1;33m\u001b[0m\u001b[0m\n\u001b[0m\u001b[0;32m     12\u001b[0m     \u001b[1;32mexcept\u001b[0m \u001b[0mImportError\u001b[0m \u001b[1;32mas\u001b[0m \u001b[0me\u001b[0m\u001b[1;33m:\u001b[0m\u001b[1;33m\u001b[0m\u001b[1;33m\u001b[0m\u001b[0m\n\u001b[0;32m     13\u001b[0m         \u001b[0mmissing_dependencies\u001b[0m\u001b[1;33m.\u001b[0m\u001b[0mappend\u001b[0m\u001b[1;33m(\u001b[0m\u001b[1;34mf\"{dependency}: {e}\"\u001b[0m\u001b[1;33m)\u001b[0m\u001b[1;33m\u001b[0m\u001b[1;33m\u001b[0m\u001b[0m\n",
      "\u001b[1;32mC:\\ProgramData\\Anaconda3\\lib\\site-packages\\numpy\\__init__.py\u001b[0m in \u001b[0;36m<module>\u001b[1;34m\u001b[0m\n\u001b[0;32m    146\u001b[0m     \u001b[1;32mfrom\u001b[0m \u001b[1;33m.\u001b[0m\u001b[0mcore\u001b[0m \u001b[1;32mimport\u001b[0m \u001b[1;33m*\u001b[0m\u001b[1;33m\u001b[0m\u001b[1;33m\u001b[0m\u001b[0m\n\u001b[0;32m    147\u001b[0m     \u001b[1;32mfrom\u001b[0m \u001b[1;33m.\u001b[0m \u001b[1;32mimport\u001b[0m \u001b[0mcompat\u001b[0m\u001b[1;33m\u001b[0m\u001b[1;33m\u001b[0m\u001b[0m\n\u001b[1;32m--> 148\u001b[1;33m     \u001b[1;32mfrom\u001b[0m \u001b[1;33m.\u001b[0m \u001b[1;32mimport\u001b[0m \u001b[0mlib\u001b[0m\u001b[1;33m\u001b[0m\u001b[1;33m\u001b[0m\u001b[0m\n\u001b[0m\u001b[0;32m    149\u001b[0m     \u001b[1;31m# NOTE: to be revisited following future namespace cleanup.\u001b[0m\u001b[1;33m\u001b[0m\u001b[1;33m\u001b[0m\u001b[0m\n\u001b[0;32m    150\u001b[0m     \u001b[1;31m# See gh-14454 and gh-15672 for discussion.\u001b[0m\u001b[1;33m\u001b[0m\u001b[1;33m\u001b[0m\u001b[0m\n",
      "\u001b[1;32mC:\\ProgramData\\Anaconda3\\lib\\site-packages\\numpy\\lib\\__init__.py\u001b[0m in \u001b[0;36m<module>\u001b[1;34m\u001b[0m\n\u001b[0;32m     23\u001b[0m \u001b[1;31m# Private submodules\u001b[0m\u001b[1;33m\u001b[0m\u001b[1;33m\u001b[0m\u001b[0m\n\u001b[0;32m     24\u001b[0m \u001b[1;32mfrom\u001b[0m \u001b[1;33m.\u001b[0m\u001b[0mtype_check\u001b[0m \u001b[1;32mimport\u001b[0m \u001b[1;33m*\u001b[0m\u001b[1;33m\u001b[0m\u001b[1;33m\u001b[0m\u001b[0m\n\u001b[1;32m---> 25\u001b[1;33m \u001b[1;32mfrom\u001b[0m \u001b[1;33m.\u001b[0m\u001b[0mindex_tricks\u001b[0m \u001b[1;32mimport\u001b[0m \u001b[1;33m*\u001b[0m\u001b[1;33m\u001b[0m\u001b[1;33m\u001b[0m\u001b[0m\n\u001b[0m\u001b[0;32m     26\u001b[0m \u001b[1;32mfrom\u001b[0m \u001b[1;33m.\u001b[0m\u001b[0mfunction_base\u001b[0m \u001b[1;32mimport\u001b[0m \u001b[1;33m*\u001b[0m\u001b[1;33m\u001b[0m\u001b[1;33m\u001b[0m\u001b[0m\n\u001b[0;32m     27\u001b[0m \u001b[1;32mfrom\u001b[0m \u001b[1;33m.\u001b[0m\u001b[0mnanfunctions\u001b[0m \u001b[1;32mimport\u001b[0m \u001b[1;33m*\u001b[0m\u001b[1;33m\u001b[0m\u001b[1;33m\u001b[0m\u001b[0m\n",
      "\u001b[1;32mC:\\ProgramData\\Anaconda3\\lib\\importlib\\_bootstrap.py\u001b[0m in \u001b[0;36m_find_and_load\u001b[1;34m(name, import_)\u001b[0m\n",
      "\u001b[1;32mC:\\ProgramData\\Anaconda3\\lib\\importlib\\_bootstrap.py\u001b[0m in \u001b[0;36m_find_and_load_unlocked\u001b[1;34m(name, import_)\u001b[0m\n",
      "\u001b[1;32mC:\\ProgramData\\Anaconda3\\lib\\importlib\\_bootstrap.py\u001b[0m in \u001b[0;36m_load_unlocked\u001b[1;34m(spec)\u001b[0m\n",
      "\u001b[1;32mC:\\ProgramData\\Anaconda3\\lib\\importlib\\_bootstrap_external.py\u001b[0m in \u001b[0;36mexec_module\u001b[1;34m(self, module)\u001b[0m\n",
      "\u001b[1;32mC:\\ProgramData\\Anaconda3\\lib\\importlib\\_bootstrap_external.py\u001b[0m in \u001b[0;36mget_code\u001b[1;34m(self, fullname)\u001b[0m\n",
      "\u001b[1;32mC:\\ProgramData\\Anaconda3\\lib\\importlib\\_bootstrap_external.py\u001b[0m in \u001b[0;36mget_data\u001b[1;34m(self, path)\u001b[0m\n",
      "\u001b[1;31mKeyboardInterrupt\u001b[0m: "
     ]
    }
   ],
   "source": [
    "import pandas as pd\n",
    "import numpy as np\n",
    "import scipy\n",
    "import matplotlib.pyplot as plot\n",
    "import plotly.express as px\n",
    "import plotly.graph_objs as go\n"
   ]
  },
  {
   "cell_type": "code",
   "execution_count": null,
   "metadata": {},
   "outputs": [],
   "source": [
    "df = pd.read_csv('data\\la-haute-borne-data-2017-2020.csv',sep = \";\")"
   ]
  },
  {
   "cell_type": "code",
   "execution_count": null,
   "metadata": {},
   "outputs": [],
   "source": [
    "df['Date_time'] = pd.to_datetime(df['Date_time'],format='%Y-%m-%d %H:%M:%S', errors='coerce', utc=True)\n",
    "df.sort_values(by=['Date_time'], inplace=True, ascending=True)"
   ]
  },
  {
   "cell_type": "code",
   "execution_count": null,
   "metadata": {},
   "outputs": [],
   "source": [
    "plot.figure(figsize=(17,4))\n",
    "plot.plot(df.isnull().sum(axis = 0))\n",
    "plot.xticks(rotation=90)\n",
    "plot.margins(x=0)\n",
    "plot.title('count of NaN')\n",
    "plot.show()"
   ]
  },
  {
   "cell_type": "code",
   "execution_count": null,
   "metadata": {},
   "outputs": [],
   "source": [
    "df_clean = df.dropna(thresh=5)\n",
    "df_clean"
   ]
  },
  {
   "cell_type": "code",
   "execution_count": null,
   "metadata": {},
   "outputs": [],
   "source": [
    "df_clean['Month'] = df_clean['Date_time'].dt.strftime('%Y-%m-%d')\n",
    "df_clean['Year'] = df_clean['Date_time'].dt.year\n",
    "df_clean['Date_time']"
   ]
  },
  {
   "cell_type": "code",
   "execution_count": null,
   "metadata": {},
   "outputs": [],
   "source": [
    "f = plot.figure(figsize=(12,5))\n",
    "ax = f.add_subplot()\n",
    "ax.hist(df_clean['Ws_avg'],bins = 20, edgecolor = 'black', linewidth = 1.5)\n",
    "ax.set_title('Wind Speed')\n",
    "ax.set_xlabel('Wind Speed [m/s]')\n",
    "ax.set_ylabel('Count')\n",
    "\n",
    "plot.show()"
   ]
  },
  {
   "cell_type": "code",
   "execution_count": null,
   "metadata": {},
   "outputs": [],
   "source": [
    "fig = go.Figure(data=go.Scatter(x=df_clean['Date_time'].astype(dtype=str), \n",
    "                        y=df_clean['Ws_avg'],\n",
    "                        marker_color='indianred', text=\"wind speed\"))\n",
    "fig.update_layout({\"title\": 'Average Wind Speed from Jan 2017 to Jan 20218',\n",
    "                   \"xaxis\": {\"title\":\"Months\"},\n",
    "                   \"yaxis\": {\"title\":\"average Wind Speed\"},\n",
    "                   \"showlegend\": False})\n",
    "fig.show()"
   ]
  },
  {
   "cell_type": "code",
   "execution_count": null,
   "metadata": {},
   "outputs": [],
   "source": [
    "f = plot.figure(figsize=(12,5))\n",
    "ax = f.add_subplot()\n",
    "ax.hist(df_clean['Wa_c_avg'],bins = 20, edgecolor = 'black', linewidth = 1.5)\n",
    "ax.set_title('Wind direction')\n",
    "ax.set_xlabel('Absolute Wind Direction corrected in degrees')\n",
    "ax.set_ylabel('Count')\n",
    "\n",
    "plot.show()"
   ]
  },
  {
   "cell_type": "code",
   "execution_count": null,
   "metadata": {},
   "outputs": [],
   "source": [
    "fig = go.Figure(data=go.Scatter(x=df_clean['Date_time'].astype(dtype=str), \n",
    "                        y=df_clean['Wa_c_avg'],\n",
    "                        marker_color='indianred', text=\"degree\"))\n",
    "fig.update_layout({\"title\": 'Average Wind Direction from Jan 2017 to Jan 20218',\n",
    "                   \"xaxis\": {\"title\":\"Months\"},\n",
    "                   \"yaxis\": {\"title\":\"average Wind Direction\"},\n",
    "                   \"showlegend\": False})\n",
    "fig.show()"
   ]
  },
  {
   "cell_type": "code",
   "execution_count": null,
   "metadata": {},
   "outputs": [],
   "source": [
    "f = plot.figure(figsize=(12,5))\n",
    "ax = f.add_subplot()\n",
    "ax.hist(df_clean['Ot_avg'],bins = 20, edgecolor = 'black', linewidth = 1.5)\n",
    "ax.set_title('Outdoor temperature')\n",
    "ax.set_xlabel('temperature in degree C')\n",
    "ax.set_ylabel('Count')\n",
    "\n",
    "plot.show()"
   ]
  },
  {
   "cell_type": "code",
   "execution_count": null,
   "metadata": {},
   "outputs": [],
   "source": [
    "fig = go.Figure(data=go.Scatter(x=df_clean['Date_time'].astype(dtype=str), \n",
    "                        y=df_clean['Ot_avg'],\n",
    "                        marker_color='indianred', text=\"degree C\"))\n",
    "fig.update_layout({\"title\": 'Average Temperature Jan 2017 to Jan 20218',\n",
    "                   \"xaxis\": {\"title\":\"Months\"},\n",
    "                   \"yaxis\": {\"title\":\"average temperature\"},\n",
    "                   \"showlegend\": False})\n",
    "fig.show()"
   ]
  },
  {
   "cell_type": "code",
   "execution_count": null,
   "metadata": {},
   "outputs": [],
   "source": [
    "f = plot.figure(figsize=(12,5))\n",
    "ax = f.add_subplot()\n",
    "ax.hist(df_clean['Rs_avg'],bins = 20, edgecolor = 'black', linewidth = 1.5)\n",
    "ax.set_title('Rotor Speed')\n",
    "ax.set_xlabel('Rotor Speed in revolution per minute')\n",
    "ax.set_ylabel('Count')\n",
    "\n",
    "plot.show()"
   ]
  },
  {
   "cell_type": "code",
   "execution_count": null,
   "metadata": {},
   "outputs": [],
   "source": [
    "fig = go.Figure(data=go.Scatter(x=df_clean['Date_time'].astype(dtype=str), \n",
    "                        y=df_clean['Rs_avg'],\n",
    "                        marker_color='indianred', text=\"rmp\"))\n",
    "fig.update_layout({\"title\": 'Average Rotor Speed Jan 2017 to Jan 20218',\n",
    "                   \"xaxis\": {\"title\":\"Months\"},\n",
    "                   \"yaxis\": {\"title\":\"average rotor speed\"},\n",
    "                   \"showlegend\": False})\n",
    "fig.show()"
   ]
  },
  {
   "cell_type": "code",
   "execution_count": null,
   "metadata": {},
   "outputs": [],
   "source": [
    "f = plot.figure(figsize=(12,5))\n",
    "ax = f.add_subplot()\n",
    "ax.hist(df_clean['Ya_avg'],bins = 20, edgecolor = 'black', linewidth = 1.5)\n",
    "ax.set_title('Nacelle Angle')\n",
    "ax.set_xlabel('Nacelle Angle in degrees')\n",
    "ax.set_ylabel('Count')\n",
    "\n",
    "plot.show()"
   ]
  },
  {
   "cell_type": "code",
   "execution_count": null,
   "metadata": {},
   "outputs": [],
   "source": [
    "fig = go.Figure(data=go.Scatter(x=df_clean['Date_time'].astype(dtype=str), \n",
    "                        y=df_clean['Ya_avg'],\n",
    "                        marker_color='indianred', text=\"degree\"))\n",
    "fig.update_layout({\"title\": 'Average Nacelle Angle Jan 2017 to Jan 20218',\n",
    "                   \"xaxis\": {\"title\":\"Months\"},\n",
    "                   \"yaxis\": {\"title\":\"Average Nacelle Angle\"},\n",
    "                   \"showlegend\": False})\n",
    "fig.show()"
   ]
  },
  {
   "cell_type": "code",
   "execution_count": null,
   "metadata": {},
   "outputs": [],
   "source": [
    "f = plot.figure(figsize=(12,5))\n",
    "ax = f.add_subplot()\n",
    "ax.hist(df_clean['Yt_avg'],bins = 20, edgecolor = 'black', linewidth = 1.5)\n",
    "ax.set_title('Nacelle Temperature')\n",
    "ax.set_xlabel('Nacelle Temperature in degree C')\n",
    "ax.set_ylabel('Count')\n",
    "\n",
    "plot.show()"
   ]
  },
  {
   "cell_type": "code",
   "execution_count": null,
   "metadata": {},
   "outputs": [],
   "source": [
    "fig = go.Figure(data=go.Scatter(x=df_clean['Date_time'].astype(dtype=str), \n",
    "                        y=df_clean['Yt_avg'],\n",
    "                        marker_color='indianred', text=\"degree C\"))\n",
    "fig.update_layout({\"title\": 'Average Nacelle Temperature Jan 2017 to Jan 20218',\n",
    "                   \"xaxis\": {\"title\":\"Months\"},\n",
    "                   \"yaxis\": {\"title\":\"Average Nacelle Temperature\"},\n",
    "                   \"showlegend\": False})\n",
    "fig.show()"
   ]
  },
  {
   "cell_type": "code",
   "execution_count": null,
   "metadata": {
    "scrolled": true
   },
   "outputs": [],
   "source": [
    "f = plot.figure(figsize=(12,5))\n",
    "ax = f.add_subplot()\n",
    "ax.hist(df_clean['P_avg'],bins = 20, edgecolor = 'black', linewidth = 1.5)\n",
    "ax.set_title('Active Power')\n",
    "ax.set_xlabel('Active Power in kW')\n",
    "ax.set_ylabel('Count')\n",
    "\n",
    "plot.show()"
   ]
  },
  {
   "cell_type": "code",
   "execution_count": null,
   "metadata": {},
   "outputs": [],
   "source": [
    "fig = go.Figure(data=go.Scatter(x=df_clean['Date_time'].astype(dtype=str), \n",
    "                        y=df_clean['P_avg'],\n",
    "                        marker_color='indianred', text=\"kW\"))\n",
    "fig.update_layout({\"title\": 'Average Wind Power from Jan 2017 to Jan 20218',\n",
    "                   \"xaxis\": {\"title\":\"Months\"},\n",
    "                   \"yaxis\": {\"title\":\"average Wind Power\"},\n",
    "                   \"showlegend\": False})\n",
    "fig.show()"
   ]
  },
  {
   "cell_type": "code",
   "execution_count": null,
   "metadata": {},
   "outputs": [],
   "source": [
    "fig = go.Figure(data=go.Scatter(x=df_clean['Month'].astype(dtype=str), \n",
    "                        y=df_clean['P_avg'],\n",
    "                        marker_color='indianred', text=\"kW\"))\n",
    "fig.update_layout({\"title\": 'Average Wind Power from Jan 2017 to Jan 20218',\n",
    "                   \"xaxis\": {\"title\":\"Months\"},\n",
    "                   \"yaxis\": {\"title\":\"average Wind Power\"},\n",
    "                   \"showlegend\": False})\n",
    "fig.show()"
   ]
  },
  {
   "cell_type": "code",
   "execution_count": null,
   "metadata": {},
   "outputs": [],
   "source": [
    "fig = go.Figure(data=go.Scatter(x=df_clean['Year'].astype(dtype=str), \n",
    "                        y=df_clean['P_avg'],\n",
    "                        marker_color='indianred', text=\"kW\"))\n",
    "fig.update_layout({\"title\": 'Average Wind Power from Jan 2017 to Jan 20218',\n",
    "                   \"xaxis\": {\"title\":\"Year\"},\n",
    "                   \"yaxis\": {\"title\":\"average Wind Power\"},\n",
    "                   \"showlegend\": False})\n",
    "fig.show()"
   ]
  },
  {
   "cell_type": "code",
   "execution_count": null,
   "metadata": {},
   "outputs": [],
   "source": []
  }
 ],
 "metadata": {
  "kernelspec": {
   "display_name": "Python 3",
   "language": "python",
   "name": "python3"
  },
  "language_info": {
   "codemirror_mode": {
    "name": "ipython",
    "version": 3
   },
   "file_extension": ".py",
   "mimetype": "text/x-python",
   "name": "python",
   "nbconvert_exporter": "python",
   "pygments_lexer": "ipython3",
   "version": "3.8.5"
  }
 },
 "nbformat": 4,
 "nbformat_minor": 4
}
